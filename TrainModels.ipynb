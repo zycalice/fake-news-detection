{
 "cells": [
  {
   "cell_type": "markdown",
   "metadata": {},
   "source": [
    "# Load np for embeddings"
   ]
  },
  {
   "cell_type": "code",
   "execution_count": 10,
   "metadata": {},
   "outputs": [],
   "source": [
    "import numpy as np\n",
    "import pandas as pd"
   ]
  },
  {
   "cell_type": "code",
   "execution_count": 7,
   "metadata": {},
   "outputs": [],
   "source": [
    "distilBert_text = np.load('./intermed/distilBert_text.npy')\n",
    "distilBert_title = np.load('./intermed/distilBert_title.npy')"
   ]
  },
  {
   "cell_type": "code",
   "execution_count": 12,
   "metadata": {},
   "outputs": [],
   "source": [
    "news = pd.read_csv(\"./intermed/news.csv\")"
   ]
  },
  {
   "cell_type": "code",
   "execution_count": 81,
   "metadata": {},
   "outputs": [
    {
     "data": {
      "text/plain": [
       "array([0., 0., 0., ..., 1., 1., 1.])"
      ]
     },
     "execution_count": 81,
     "metadata": {},
     "output_type": "execute_result"
    }
   ],
   "source": [
    "labels = news.label.values\n",
    "y = np.zeros(labels.shape)\n",
    "y[labels == 'fake'] = 1\n",
    "y"
   ]
  },
  {
   "cell_type": "markdown",
   "metadata": {},
   "source": [
    "# Logistic Regression"
   ]
  },
  {
   "cell_type": "code",
   "execution_count": 70,
   "metadata": {},
   "outputs": [],
   "source": [
    "from sklearn.linear_model import LogisticRegression\n",
    "from sklearn.model_selection import train_test_split\n",
    "from sklearn.metrics import f1_score"
   ]
  },
  {
   "cell_type": "code",
   "execution_count": 133,
   "metadata": {},
   "outputs": [],
   "source": [
    "def lrModelEval(X, y, test_perc):\n",
    "    X_train, X_test, y_train, y_test = train_test_split(X, y, test_size=test_perc, random_state=42)\n",
    "    clf = LogisticRegression(random_state=0, max_iter = 1000).fit(X_train, y_train)\n",
    "    \n",
    "    # predict\n",
    "    y_pred_train = clf.predict(X_train)\n",
    "    y_pred_test = clf.predict(X_test)\n",
    "    assert(y_pred_train.shape == y_train.shape)\n",
    "    assert(y_pred_test.shape == y_test.shape)\n",
    "    \n",
    "    # evaluate\n",
    "    print('training accuracy:', clf.score(X_train, y_train))\n",
    "    print('test accuracy:', clf.score(X_test, y_test))\n",
    "    print('train f-score:', f1_score(y_train, y_pred_train))\n",
    "    print('test f-score:', f1_score(y_test, y_pred_test))\n",
    "    \n",
    "    return clf"
   ]
  },
  {
   "cell_type": "markdown",
   "metadata": {},
   "source": [
    "## 1.1. using only title as feature"
   ]
  },
  {
   "cell_type": "code",
   "execution_count": 135,
   "metadata": {},
   "outputs": [
    {
     "name": "stdout",
     "output_type": "stream",
     "text": [
      "training accuracy: 0.973039460124331\n",
      "test accuracy: 0.9695619896065331\n",
      "train f-score: 0.9741629233170856\n",
      "test f-score: 0.970674296118083\n"
     ]
    }
   ],
   "source": [
    "clf_title = lrModelEval(distilBert_title, y, 0.33)"
   ]
  },
  {
   "cell_type": "markdown",
   "metadata": {},
   "source": [
    "## 1.2. using only text body as feature"
   ]
  },
  {
   "cell_type": "code",
   "execution_count": 136,
   "metadata": {},
   "outputs": [
    {
     "name": "stdout",
     "output_type": "stream",
     "text": [
      "training accuracy: 0.992221003291114\n",
      "test accuracy: 0.9904164135789971\n",
      "train f-score: 0.992566709021601\n",
      "test f-score: 0.9907911802853437\n"
     ]
    }
   ],
   "source": [
    "clf_text = lrModelEval(distilBert_text, y, 0.33)"
   ]
  }
 ],
 "metadata": {
  "kernelspec": {
   "display_name": "Python 3",
   "language": "python",
   "name": "python3"
  },
  "language_info": {
   "codemirror_mode": {
    "name": "ipython",
    "version": 3
   },
   "file_extension": ".py",
   "mimetype": "text/x-python",
   "name": "python",
   "nbconvert_exporter": "python",
   "pygments_lexer": "ipython3",
   "version": "3.7.6"
  }
 },
 "nbformat": 4,
 "nbformat_minor": 4
}
