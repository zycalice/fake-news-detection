{
 "cells": [
  {
   "cell_type": "markdown",
   "metadata": {},
   "source": [
    "**README: This notebook contains model training for the BERT version.**"
   ]
  },
  {
   "cell_type": "markdown",
   "metadata": {},
   "source": [
    "# Import Data and subset Data"
   ]
  },
  {
   "cell_type": "markdown",
   "metadata": {},
   "source": [
    "## 1. Import"
   ]
  },
  {
   "cell_type": "code",
   "execution_count": 1,
   "metadata": {},
   "outputs": [],
   "source": [
    "import numpy as np\n",
    "import pandas as pd\n",
    "import sklearn\n",
    "import datetime"
   ]
  },
  {
   "cell_type": "code",
   "execution_count": 545,
   "metadata": {},
   "outputs": [],
   "source": [
    "news = pd.read_csv(\"../data_intermed/news_bert.csv\")\n",
    "news = news[news['text']!=\" \"] # remove empty entries"
   ]
  },
  {
   "cell_type": "code",
   "execution_count": 546,
   "metadata": {},
   "outputs": [],
   "source": [
    "distilBert_title_raw = np.load('../data_intermed/distilBert_title.npy')\n",
    "distilBert_text_raw = np.load('../data_intermed/distilBert_text.npy')"
   ]
  },
  {
   "cell_type": "code",
   "execution_count": 547,
   "metadata": {},
   "outputs": [],
   "source": [
    "def createLabels(data, col_name):\n",
    "    labels = data[col_name].values\n",
    "    y = np.zeros(labels.shape)\n",
    "    y[labels == 'fake'] = 1\n",
    "    return y"
   ]
  },
  {
   "cell_type": "code",
   "execution_count": 614,
   "metadata": {},
   "outputs": [
    {
     "name": "stdout",
     "output_type": "stream",
     "text": [
      "(44271, 768)\n"
     ]
    }
   ],
   "source": [
    "distilBert_title = distilBert_title_raw[news.index]\n",
    "distilBert_text = distilBert_text_raw[news.index]\n",
    "y = createLabels(news, 'label')\n",
    "\n",
    "print(distilBert_text.shape)"
   ]
  },
  {
   "cell_type": "markdown",
   "metadata": {},
   "source": [
    "## 2. Subset Data to only politics"
   ]
  },
  {
   "cell_type": "code",
   "execution_count": 9,
   "metadata": {},
   "outputs": [
    {
     "data": {
      "text/plain": [
       "array(['politicsNews', 'worldnews', 'News', 'politics', 'Government News',\n",
       "       'left-news', 'US_News', 'Middle-east'], dtype=object)"
      ]
     },
     "execution_count": 9,
     "metadata": {},
     "output_type": "execute_result"
    }
   ],
   "source": [
    "news.subject.unique()"
   ]
  },
  {
   "cell_type": "code",
   "execution_count": 10,
   "metadata": {},
   "outputs": [],
   "source": [
    "news_p = news[news['subject'].isin(['politicsNews','politics','Government News','left-news'])]"
   ]
  },
  {
   "cell_type": "code",
   "execution_count": 11,
   "metadata": {},
   "outputs": [
    {
     "data": {
      "text/plain": [
       "label\n",
       "fake    12244\n",
       "true    11271\n",
       "Name: title, dtype: int64"
      ]
     },
     "execution_count": 11,
     "metadata": {},
     "output_type": "execute_result"
    }
   ],
   "source": [
    "news_p.size\n",
    "news_p.groupby('label').count().title"
   ]
  },
  {
   "cell_type": "code",
   "execution_count": 615,
   "metadata": {},
   "outputs": [
    {
     "name": "stdout",
     "output_type": "stream",
     "text": [
      "(23515, 768)\n"
     ]
    }
   ],
   "source": [
    "distilBert_title_p = distilBert_title[news_p.index]\n",
    "distilBert_text_p = distilBert_text[news_p.index]\n",
    "y_p = createLabels(news_p, 'label')\n",
    "\n",
    "print(distilBert_text_p.shape)"
   ]
  },
  {
   "cell_type": "markdown",
   "metadata": {},
   "source": [
    "## 3. Combine title and text"
   ]
  },
  {
   "cell_type": "code",
   "execution_count": 13,
   "metadata": {},
   "outputs": [],
   "source": [
    "distilBert_title_text = np.concatenate((distilBert_title, distilBert_text),1)\n",
    "distilBert_title_text_p = np.concatenate((distilBert_title_p, distilBert_text_p),1)"
   ]
  },
  {
   "cell_type": "code",
   "execution_count": 16,
   "metadata": {},
   "outputs": [
    {
     "data": {
      "text/plain": [
       "(44271, 1536)"
      ]
     },
     "execution_count": 16,
     "metadata": {},
     "output_type": "execute_result"
    }
   ],
   "source": [
    "distilBert_title_text.shape"
   ]
  },
  {
   "cell_type": "markdown",
   "metadata": {},
   "source": [
    "# Models"
   ]
  },
  {
   "cell_type": "markdown",
   "metadata": {},
   "source": [
    "We chose Naive Bayes, Logistic Regression, Linear SVM, and Neura Networks for the BERT version."
   ]
  },
  {
   "cell_type": "code",
   "execution_count": 918,
   "metadata": {},
   "outputs": [],
   "source": [
    "from sklearn.model_selection import train_test_split\n",
    "from sklearn.metrics import f1_score\n",
    "from sklearn.model_selection import GridSearchCV\n",
    "from sklearn.model_selection import cross_val_score\n",
    "import matplotlib.pyplot as plt\n",
    "import json"
   ]
  },
  {
   "cell_type": "code",
   "execution_count": 686,
   "metadata": {},
   "outputs": [],
   "source": [
    "def modelEval(X_train, y_train, X_test, y_test, model, result_output_name, path = \"../model_results/\", printResults = True):\n",
    "#     X_train, X_test, y_train, y_test = train_test_split(X, y, test_size=test_perc, random_state=42)\n",
    "    clf = model.fit(X_train, y_train)\n",
    "    \n",
    "    # predict\n",
    "    y_pred_train = clf.predict(X_train)\n",
    "    y_pred_test = clf.predict(X_test)\n",
    "    assert(y_pred_train.shape == y_train.shape)\n",
    "    assert(y_pred_test.shape == y_test.shape)\n",
    "    \n",
    "    # save results in dictionary\n",
    "    model_dict = {}\n",
    "    model_dict['train accuracy'] = clf.score(X_train, y_train)\n",
    "    model_dict['test accuracy'] = clf.score(X_test, y_test)\n",
    "    model_dict['train f-score'] = f1_score(y_train, y_pred_train)\n",
    "    model_dict['test f-score'] = f1_score(y_test, y_pred_test)\n",
    "    \n",
    "    # output the dictionary\n",
    "    with open(path + result_output_name + \".json\", \"w\") as outfile:  \n",
    "        json.dump(model_dict, outfile) \n",
    "    \n",
    "    # print\n",
    "    if printResults == True:\n",
    "        print('train accuracy:', model_dict['train accuracy'])\n",
    "        print('test accuracy:', model_dict['test accuracy'])\n",
    "        print('train f-score:', model_dict['train f-score'])\n",
    "        print('test f-score:', model_dict['test f-score'])\n",
    "    \n",
    "    return clf, model_dict"
   ]
  },
  {
   "cell_type": "code",
   "execution_count": 631,
   "metadata": {},
   "outputs": [],
   "source": [
    "# Creates test train for all combinations of features (6 sets) for easier use later\n",
    "for i in ['title','text','title_text']:\n",
    "    exec(\"X_train_\"+i+\",X_test_\"+i+\",y_train_\"+i+\",y_test_\"+i+\n",
    "         \"= train_test_split(distilBert_\" +i + \",y, test_size=0.33, random_state=42)\")\n",
    "    exec(\"X_train_\"+i+\"_p ,X_test_\"+i+\"_p ,y_train_\"+i+\"_p ,y_test_\"+i+\n",
    "         \"_p = train_test_split(distilBert_\" +i + \"_p ,y_p, test_size=0.33, random_state=42)\")"
   ]
  },
  {
   "cell_type": "markdown",
   "metadata": {},
   "source": [
    "## I. Naive Bayes (need to update)"
   ]
  },
  {
   "cell_type": "code",
   "execution_count": 956,
   "metadata": {},
   "outputs": [],
   "source": [
    "from sklearn.naive_bayes import GaussianNB"
   ]
  },
  {
   "cell_type": "code",
   "execution_count": 957,
   "metadata": {},
   "outputs": [],
   "source": [
    "gnb = GaussianNB()"
   ]
  },
  {
   "cell_type": "code",
   "execution_count": 958,
   "metadata": {},
   "outputs": [
    {
     "name": "stdout",
     "output_type": "stream",
     "text": [
      "train accuracy: 0.8516570580897475\n",
      "test accuracy: 0.8499657768651608\n",
      "train f-score: 0.8537914534458695\n",
      "test f-score: 0.8528859060402684\n"
     ]
    }
   ],
   "source": [
    "clf_nb_title = modelEval(X_train_title, y_train_title, X_test_title, y_test_title,\n",
    "                         gnb, \"results_nb_title\")"
   ]
  },
  {
   "cell_type": "code",
   "execution_count": 959,
   "metadata": {},
   "outputs": [
    {
     "name": "stdout",
     "output_type": "stream",
     "text": [
      "train accuracy: 0.9221199554971174\n",
      "test accuracy: 0.9243668720054757\n",
      "train f-score: 0.924809582709459\n",
      "test f-score: 0.9270193514298922\n"
     ]
    }
   ],
   "source": [
    "clf_nb_text = modelEval(X_train_text, y_train_text, X_test_text, y_test_text, \n",
    "                        gnb, \"results_nb_text\")"
   ]
  },
  {
   "cell_type": "code",
   "execution_count": 960,
   "metadata": {},
   "outputs": [
    {
     "name": "stdout",
     "output_type": "stream",
     "text": [
      "train accuracy: 0.9204005259431577\n",
      "test accuracy: 0.920123203285421\n",
      "train f-score: 0.9226434258379477\n",
      "test f-score: 0.9223191106969314\n"
     ]
    }
   ],
   "source": [
    "clf_nb_title_text = modelEval(X_train_title_text, y_train_title_text, X_test_title_text, y_test_title_text,\n",
    "                              gnb, \"results_nb_title_text\")"
   ]
  },
  {
   "cell_type": "code",
   "execution_count": 961,
   "metadata": {},
   "outputs": [
    {
     "name": "stdout",
     "output_type": "stream",
     "text": [
      "train accuracy: 0.8703268803554427\n",
      "test accuracy: 0.8743556701030928\n",
      "train f-score: 0.8731607375675172\n",
      "test f-score: 0.8778654641112363\n"
     ]
    }
   ],
   "source": [
    "clf_nb_title_p = modelEval(X_train_title_p, y_train_title_p, X_test_title_p, y_test_title_p,\n",
    "                           gnb, \"results_nb_title_p\")"
   ]
  },
  {
   "cell_type": "code",
   "execution_count": 962,
   "metadata": {},
   "outputs": [
    {
     "name": "stdout",
     "output_type": "stream",
     "text": [
      "train accuracy: 0.9178673437004126\n",
      "test accuracy: 0.9252577319587629\n",
      "train f-score: 0.9189426208970183\n",
      "test f-score: 0.9268046441191318\n"
     ]
    }
   ],
   "source": [
    "clf_nb_text_p = modelEval(X_train_text_p, y_train_text_p, X_test_text_p, y_test_text_p,\n",
    "                          gnb, \"results_nb_text_p\")"
   ]
  },
  {
   "cell_type": "code",
   "execution_count": 963,
   "metadata": {},
   "outputs": [
    {
     "name": "stdout",
     "output_type": "stream",
     "text": [
      "train accuracy: 0.9294827039035227\n",
      "test accuracy: 0.9371134020618557\n",
      "train f-score: 0.9311946491608348\n",
      "test f-score: 0.938877755511022\n"
     ]
    }
   ],
   "source": [
    "clf_nb_title_text_p = modelEval(X_train_title_text_p, y_train_title_text_p, X_test_title_text_p, y_test_title_text_p, \n",
    "                                gnb, \"results_nb_title_text_p\")"
   ]
  },
  {
   "cell_type": "markdown",
   "metadata": {},
   "source": [
    "## II. Logistic Regression"
   ]
  },
  {
   "cell_type": "code",
   "execution_count": 621,
   "metadata": {},
   "outputs": [],
   "source": [
    "from sklearn.linear_model import LogisticRegression"
   ]
  },
  {
   "cell_type": "markdown",
   "metadata": {},
   "source": [
    "### 2.1 Cross Validation"
   ]
  },
  {
   "cell_type": "code",
   "execution_count": 914,
   "metadata": {},
   "outputs": [],
   "source": [
    "# cross validation\n",
    "def crossValidationLR(X, y, hyperparameters):\n",
    "    scores = []\n",
    "    X_train, X_test, y_train, y_test = train_test_split(X, y, test_size=0.33, random_state=42)\n",
    "    \n",
    "    for h in hyperparameters:\n",
    "        model = LogisticRegression(random_state=0, max_iter=2000, C=h)\n",
    "        scores.append(cross_val_score(estimator=model, X=X_train, y=y_train, cv=10).mean())\n",
    "        \n",
    "    return scores"
   ]
  },
  {
   "cell_type": "code",
   "execution_count": 915,
   "metadata": {},
   "outputs": [],
   "source": [
    "scoresLR_title = crossValidationLR(X_train_title, y_train_title, range(1,6))\n",
    "scoresLR_title_p = crossValidationLR(X_train_title_p, y_train_title_p, range(1,6))"
   ]
  },
  {
   "cell_type": "code",
   "execution_count": 916,
   "metadata": {},
   "outputs": [],
   "source": [
    "scoresLR_text = crossValidationLR(X_train_text, y_train_text, range(2,10))\n",
    "scoresLR_text_p = crossValidationLR(X_train_text_p, y_train_text_p, range(2,10))"
   ]
  },
  {
   "cell_type": "code",
   "execution_count": 665,
   "metadata": {},
   "outputs": [],
   "source": [
    "scoresLR_title_text = crossValidationLR(X_train_title_text, y_train_title_text, range(1,10))\n",
    "scoresLR_title_text_p = crossValidationLR(X_train_title_text_p, y_train_title_text_p, range(1,10))"
   ]
  },
  {
   "cell_type": "code",
   "execution_count": 943,
   "metadata": {},
   "outputs": [
    {
     "data": {
      "image/png": "[encoded data removed]",
      "text/plain": [
       "<Figure size 432x288 with 1 Axes>"
      ]
     },
     "metadata": {
      "needs_background": "light"
     },
     "output_type": "display_data"
    },
    {
     "data": {
      "image/png": "[encoded data removed]",
      "text/plain": [
       "<Figure size 432x288 with 1 Axes>"
      ]
     },
     "metadata": {
      "needs_background": "light"
     },
     "output_type": "display_data"
    },
    {
     "data": {
      "image/png": "[encoded data removed]",
      "text/plain": [
       "<Figure size 432x288 with 1 Axes>"
      ]
     },
     "metadata": {
      "needs_background": "light"
     },
     "output_type": "display_data"
    },
    {
     "data": {
      "image/png": "[encoded data removed]",
      "text/plain": [
       "<Figure size 432x288 with 1 Axes>"
      ]
     },
     "metadata": {
      "needs_background": "light"
     },
     "output_type": "display_data"
    },
    {
     "data": {
      "image/png": "[encoded data removed]",
      "text/plain": [
       "<Figure size 432x288 with 1 Axes>"
      ]
     },
     "metadata": {
      "needs_background": "light"
     },
     "output_type": "display_data"
    },
    {
     "data": {
      "image/png": "[encoded data removed]",
      "text/plain": [
       "<Figure size 432x288 with 1 Axes>"
      ]
     },
     "metadata": {
      "needs_background": "light"
     },
     "output_type": "display_data"
    }
   ],
   "source": [
    "plt.plot(range(1,6),scoresLR_title)\n",
    "plt.title(\"LR-Title CV Accuracy\")\n",
    "plt.show()\n",
    "plt.plot(range(2,10),scoresLR_text)\n",
    "plt.title(\"LR-Text CV Accuracy\")\n",
    "plt.show()\n",
    "plt.plot(range(1,10), scoresLR_title_text)\n",
    "plt.title(\"LR-Title and Text CV Accuracy\")\n",
    "plt.show()\n",
    "plt.plot(range(1,6), scoresLR_title_p)\n",
    "plt.title(\"LR-Title(Politics) CV Accuracy\")\n",
    "plt.show()\n",
    "plt.plot(range(2,10), scoresLR_text_p)\n",
    "plt.title(\"LR-Text(Politics) CV Accuracy\")\n",
    "plt.show()\n",
    "plt.plot(range(1,10), scoresLR_title_text_p)\n",
    "plt.title(\"LR-Title and Text(Politics) CV Accuracy\")\n",
    "plt.show()"
   ]
  },
  {
   "cell_type": "code",
   "execution_count": 926,
   "metadata": {},
   "outputs": [
    {
     "name": "stdout",
     "output_type": "stream",
     "text": [
      "train accuracy: 0.9715788409021948\n",
      "test accuracy: 0.9677618069815195\n",
      "train f-score: 0.9723905282808764\n",
      "test f-score: 0.9686605895269147\n"
     ]
    }
   ],
   "source": [
    "lr = LogisticRegression(random_state=0, max_iter = 2000, C=2)\n",
    "clf_lr_title = modelEval(X_train_title, y_train_title, X_test_title, y_test_title, lr, \"results_lr_title\")"
   ]
  },
  {
   "cell_type": "code",
   "execution_count": 927,
   "metadata": {},
   "outputs": [
    {
     "name": "stdout",
     "output_type": "stream",
     "text": [
      "train accuracy: 0.9969994268568153\n",
      "test accuracy: 0.9908281998631074\n",
      "train f-score: 0.9970931182023058\n",
      "test f-score: 0.9911105214276238\n"
     ]
    }
   ],
   "source": [
    "lr = LogisticRegression(random_state=0, max_iter = 2000, C=8)\n",
    "clf_lr_text = modelEval(X_train_text, y_train_text, X_test_text, y_test_text, lr, \"results_lr_text\")"
   ]
  },
  {
   "cell_type": "code",
   "execution_count": 928,
   "metadata": {},
   "outputs": [
    {
     "name": "stdout",
     "output_type": "stream",
     "text": [
      "train accuracy: 0.9999662856950204\n",
      "test accuracy: 0.9964407939767282\n",
      "train f-score: 0.9999673512031081\n",
      "test f-score: 0.9965508092332185\n"
     ]
    }
   ],
   "source": [
    "lr = LogisticRegression(random_state=0, max_iter = 2000, C=6)\n",
    "clf_lr_title_text = modelEval(X_train_title_text, y_train_title_text, X_test_title_text, y_test_title_text, \n",
    "                              lr, \"results_lr_title_text\")"
   ]
  },
  {
   "cell_type": "code",
   "execution_count": 931,
   "metadata": {},
   "outputs": [
    {
     "name": "stdout",
     "output_type": "stream",
     "text": [
      "train accuracy: 0.9822278641701048\n",
      "test accuracy: 0.978221649484536\n",
      "train f-score: 0.9828578425370392\n",
      "test f-score: 0.9790452572845628\n"
     ]
    }
   ],
   "source": [
    "lr = LogisticRegression(random_state=0, max_iter = 2000, C=2)\n",
    "clf_lr_title_p = modelEval(X_train_title_p, y_train_title_p, X_test_title_p, y_test_title_p,\n",
    "                           lr, \"results_lr_title_p\")"
   ]
  },
  {
   "cell_type": "code",
   "execution_count": 932,
   "metadata": {},
   "outputs": [
    {
     "name": "stdout",
     "output_type": "stream",
     "text": [
      "train accuracy: 0.9998730561726437\n",
      "test accuracy: 0.9949742268041237\n",
      "train f-score: 0.9998780190290315\n",
      "test f-score: 0.9951810206351168\n"
     ]
    }
   ],
   "source": [
    "lr = LogisticRegression(random_state=0, max_iter = 2000, C=7)\n",
    "clf_lr_text_p = modelEval(X_train_text_p, y_train_text_p, X_test_text_p, y_test_text_p, \n",
    "                          lr, \"results_lr_text_p\")"
   ]
  },
  {
   "cell_type": "code",
   "execution_count": 933,
   "metadata": {},
   "outputs": [
    {
     "name": "stdout",
     "output_type": "stream",
     "text": [
      "train accuracy: 0.9998730561726437\n",
      "test accuracy: 0.9983247422680412\n",
      "train f-score: 0.9998780190290315\n",
      "test f-score: 0.9983940704138358\n"
     ]
    }
   ],
   "source": [
    "lr = LogisticRegression(random_state=0, max_iter = 2000, C=2)\n",
    "clf_lr_title_text_p = modelEval(X_train_title_text_p, y_train_title_text_p, X_test_title_text_p, y_test_title_text_p, \n",
    "                                lr, \"results_lr_title_text_p\")"
   ]
  },
  {
   "cell_type": "markdown",
   "metadata": {},
   "source": [
    "## III. Linear Support Vector Machine"
   ]
  },
  {
   "cell_type": "code",
   "execution_count": 654,
   "metadata": {},
   "outputs": [],
   "source": [
    "from sklearn.svm import LinearSVC #l2 penalty"
   ]
  },
  {
   "cell_type": "code",
   "execution_count": 938,
   "metadata": {},
   "outputs": [],
   "source": [
    "# cross validation\n",
    "def crossValidationLSVM(X, y, hyperparameters):\n",
    "    scores = []\n",
    "    X_train, X_test, y_train, y_test = train_test_split(X, y, test_size=0.33, random_state=42)\n",
    "    \n",
    "    for h in hyperparameters:\n",
    "        model = LinearSVC(max_iter = 100000, C=h)\n",
    "        scores.append(cross_val_score(estimator=model, X=X_train, y=y_train, cv=10).mean())\n",
    "        \n",
    "    return scores"
   ]
  },
  {
   "cell_type": "code",
   "execution_count": 936,
   "metadata": {},
   "outputs": [],
   "source": [
    "scoresLSVM_title = crossValidationLSVM(X_train_title, y_train_title, [0.1,0.3,0.5,0.7,0.9])\n",
    "scoresLSVM_title_p = crossValidationLSVM(X_train_title_p, y_train_title_p, [0.1,0.3,0.5,0.7,0.9])"
   ]
  },
  {
   "cell_type": "code",
   "execution_count": 939,
   "metadata": {},
   "outputs": [],
   "source": [
    "scoresLSVM_text = crossValidationLSVM(X_train_text, y_train_text, range(5,15))\n",
    "scoresLSVM_text_p = crossValidationLSVM(X_train_text_p, y_train_text_p, range(5,15))"
   ]
  },
  {
   "cell_type": "code",
   "execution_count": 940,
   "metadata": {},
   "outputs": [],
   "source": [
    "scoresLSVM_title_text = crossValidationLSVM(X_train_title_text, y_train_title_text, range(5,15))\n",
    "scoresLSVM_title_text_p = crossValidationLSVM(X_train_title_text_p, y_train_title_text_p, range(5,15))"
   ]
  },
  {
   "cell_type": "code",
   "execution_count": 945,
   "metadata": {},
   "outputs": [
    {
     "data": {
      "image/png": "[encoded data removed]",
      "text/plain": [
       "<Figure size 432x288 with 1 Axes>"
      ]
     },
     "metadata": {
      "needs_background": "light"
     },
     "output_type": "display_data"
    },
    {
     "data": {
      "image/png": "[encoded data removed]",
      "text/plain": [
       "<Figure size 432x288 with 1 Axes>"
      ]
     },
     "metadata": {
      "needs_background": "light"
     },
     "output_type": "display_data"
    },
    {
     "data": {
      "image/png": "[encoded data removed]",
      "text/plain": [
       "<Figure size 432x288 with 1 Axes>"
      ]
     },
     "metadata": {
      "needs_background": "light"
     },
     "output_type": "display_data"
    },
    {
     "data": {
      "image/png": "[encoded data removed]",
      "text/plain": [
       "<Figure size 432x288 with 1 Axes>"
      ]
     },
     "metadata": {
      "needs_background": "light"
     },
     "output_type": "display_data"
    },
    {
     "data": {
      "image/png": "[encoded data removed]",
      "text/plain": [
       "<Figure size 432x288 with 1 Axes>"
      ]
     },
     "metadata": {
      "needs_background": "light"
     },
     "output_type": "display_data"
    },
    {
     "data": {
      "image/png": "[encoded data removed]",
      "text/plain": [
       "<Figure size 432x288 with 1 Axes>"
      ]
     },
     "metadata": {
      "needs_background": "light"
     },
     "output_type": "display_data"
    }
   ],
   "source": [
    "plt.plot([0.1,0.3,0.5,0.7,0.9],scoresLSVM_title)\n",
    "plt.title(\"LSVM-Title CV Accuracy\")\n",
    "plt.show()\n",
    "plt.plot(range(5,15), scoresLSVM_text)\n",
    "plt.title(\"LSVM-Text CV Accuracy\")\n",
    "plt.show()\n",
    "plt.plot(range(5,15), scoresLSVM_title_text)\n",
    "plt.title(\"LSVM-Title and Text CV Accuracy\")\n",
    "plt.show()\n",
    "plt.plot([0.1,0.3,0.5,0.7,0.9], scoresLSVM_title_p)\n",
    "plt.title(\"LSVM-Title(Politics) CV Accuracy\")\n",
    "plt.show()\n",
    "plt.plot(range(5,15), scoresLSVM_text_p)\n",
    "plt.title(\"LSVM-Text(Politics) CV Accuracy\")\n",
    "plt.show()\n",
    "plt.plot(range(5,15), scoresLSVM_title_text_p)\n",
    "plt.title(\"LSVM-Title and Text(Politics) CV Accuracy\")\n",
    "plt.show()"
   ]
  },
  {
   "cell_type": "code",
   "execution_count": 946,
   "metadata": {},
   "outputs": [
    {
     "name": "stdout",
     "output_type": "stream",
     "text": [
      "train accuracy: 0.9725565557466033\n",
      "test accuracy: 0.968104038329911\n",
      "train f-score: 0.9733254686066325\n",
      "test f-score: 0.9689788310477965\n"
     ]
    }
   ],
   "source": [
    "lsvc = LinearSVC(max_iter = 10000, C=0.3)\n",
    "clf_lsvm_title = modelEval(X_train_title, y_train_title, X_test_title, y_test_title, \n",
    "                           lsvc, \"results_lsvm_title\")"
   ]
  },
  {
   "cell_type": "code",
   "execution_count": 951,
   "metadata": {},
   "outputs": [
    {
     "name": "stdout",
     "output_type": "stream",
     "text": [
      "train accuracy: 0.9990559994605711\n",
      "test accuracy: 0.9900752908966461\n",
      "train f-score: 0.9990855649902023\n",
      "test f-score: 0.9903954428032059\n"
     ]
    }
   ],
   "source": [
    "lsvc = LinearSVC(max_iter = 50000, C=5)\n",
    "clf_lsvm_text = modelEval(X_train_text, y_train_text, X_test_text, y_test_text, \n",
    "                          lsvc, \"results_lsvm_text\")"
   ]
  },
  {
   "cell_type": "code",
   "execution_count": 952,
   "metadata": {},
   "outputs": [
    {
     "name": "stdout",
     "output_type": "stream",
     "text": [
      "train accuracy: 1.0\n",
      "test accuracy: 0.9954140999315537\n",
      "train f-score: 1.0\n",
      "test f-score: 0.9955608560259723\n"
     ]
    }
   ],
   "source": [
    "lsvc = LinearSVC(max_iter = 50000, C=5)\n",
    "clf_lsvm_title_text = modelEval(X_train_title_text, y_train_title_text, X_test_title_text, y_test_title_text, \n",
    "                                lsvc, \"results_lsvm_title_text\")"
   ]
  },
  {
   "cell_type": "code",
   "execution_count": 953,
   "metadata": {},
   "outputs": [
    {
     "name": "stdout",
     "output_type": "stream",
     "text": [
      "train accuracy: 0.9844493811488416\n",
      "test accuracy: 0.9778350515463917\n",
      "train f-score: 0.9850107066381157\n",
      "test f-score: 0.9787339268051435\n"
     ]
    }
   ],
   "source": [
    "lsvc_p = LinearSVC(max_iter = 10000, C=0.3)\n",
    "clf_lsvm_title_p = modelEval(X_train_title_p, y_train_title_p, X_test_title_p, y_test_title_p, \n",
    "                             lsvc_p, \"results_lsvm_title_p\")"
   ]
  },
  {
   "cell_type": "code",
   "execution_count": 954,
   "metadata": {},
   "outputs": [
    {
     "name": "stdout",
     "output_type": "stream",
     "text": [
      "train accuracy: 1.0\n",
      "test accuracy: 0.9942010309278351\n",
      "train f-score: 1.0\n",
      "test f-score: 0.9944396391943655\n"
     ]
    }
   ],
   "source": [
    "lsvc_p = LinearSVC(max_iter = 50000, C=5)\n",
    "clf_lsvm_text_p = modelEval(X_train_text_p, y_train_text_p, X_test_text_p, y_test_text_p, \n",
    "                            lsvc_p, \"results_lsvm_text_p\")"
   ]
  },
  {
   "cell_type": "code",
   "execution_count": 955,
   "metadata": {},
   "outputs": [
    {
     "name": "stdout",
     "output_type": "stream",
     "text": [
      "train accuracy: 1.0\n",
      "test accuracy: 0.997680412371134\n",
      "train f-score: 1.0\n",
      "test f-score: 0.9977755808205635\n"
     ]
    }
   ],
   "source": [
    "lsvc_p = LinearSVC(max_iter = 50000, C=6)\n",
    "clf_lsvm_title_text_p = modelEval(X_train_title_text_p, y_train_title_text_p, X_test_title_text_p, y_test_title_text_p,\n",
    "                                  lsvc_p, \"results_lsvm_title_text_p\")"
   ]
  },
  {
   "cell_type": "markdown",
   "metadata": {},
   "source": [
    "## IV. Neural Network"
   ]
  },
  {
   "cell_type": "code",
   "execution_count": 162,
   "metadata": {},
   "outputs": [],
   "source": [
    "import torch\n",
    "import torch.nn as nn\n",
    "import torch.optim as optim\n",
    "import torch.nn.functional as F\n",
    "from torch.autograd import Variable\n",
    "from torch.utils.data import DataLoader\n",
    "import torch.optim as optim\n",
    "from datetime import datetime\n",
    "import glob, os"
   ]
  },
  {
   "cell_type": "code",
   "execution_count": 587,
   "metadata": {},
   "outputs": [],
   "source": [
    "class Dataset(torch.utils.data.Dataset):\n",
    "    'Characterizes a dataset for PyTorch'\n",
    "    def __init__(self, features, labels): #labels will be numpy (n,)\n",
    "        'Initialization'\n",
    "        self.features = torch.tensor(features, dtype=torch.float) #instance variables\n",
    "        self.labels = torch.tensor(labels.reshape(-1,1), dtype=torch.float)\n",
    "\n",
    "    def __len__(self):\n",
    "        'Denotes the total number of samples'\n",
    "        return len(self.labels)\n",
    "\n",
    "    def __getitem__(self, index):\n",
    "        'Generates one sample of data'\n",
    "        # Load data and get label\n",
    "        X = self.features[index]\n",
    "        y = self.labels[index]\n",
    "\n",
    "        return X, y\n",
    "    \n",
    "    def getFeatures(self):\n",
    "        return self.features"
   ]
  },
  {
   "cell_type": "code",
   "execution_count": 788,
   "metadata": {},
   "outputs": [],
   "source": [
    "# create model class\n",
    "class NeuralNetwork(nn.Module):\n",
    "    \"\"\"\n",
    "    Simplr neural network to intake bert\n",
    "    \"\"\"\n",
    "    \n",
    "    def __init__(self, p, hid, drop_rate):\n",
    "        super(NeuralNetwork, self).__init__()\n",
    "        self.hidden = hid\n",
    "        self.dropout_rate = drop_rate\n",
    "        self.l1 = nn.Linear(p, self.hidden, bias=True)  \n",
    "        self.l2 = nn.Linear(self.hidden, 1, bias=True) \n",
    "        \n",
    "    def forward(self, x):    \n",
    "        model = torch.nn.Sequential(\n",
    "            self.l1, \n",
    "            nn.Tanh(), \n",
    "            nn.BatchNorm1d(self.hidden),\n",
    "            nn.Dropout(p=self.dropout_rate), \n",
    "            self.l2, \n",
    "            nn.Sigmoid()\n",
    "        )\n",
    "\n",
    "        return model(x)"
   ]
  },
  {
   "cell_type": "code",
   "execution_count": 735,
   "metadata": {},
   "outputs": [],
   "source": [
    "# create function for training (similar to hw8)\n",
    "def train(X_train_all, y_train_all, X_test, y_test, model, batch_size, num_epochs, criterion, optimizer):\n",
    "    loss_curve = []\n",
    "    accuracy_curve = []\n",
    "    \n",
    "    # create train test split\n",
    "    \n",
    "    X_train, X_val, y_train, y_val = train_test_split(X_train_all, y_train_all, test_size=0.2, random_state=42)\n",
    "    dataloader = DataLoader(Dataset(X_train, y_train), batch_size=batch_size, shuffle=True)\n",
    "    \n",
    "    for epoch in range(num_epochs): # loop over each epoch\n",
    "        epoch_loss = 0\n",
    "        total = 0\n",
    "        correct = 0\n",
    "        \n",
    "        for data in dataloader: # loop over each batch\n",
    "            embeddings, labels = data\n",
    "            outputs = model(embeddings.float())\n",
    "            loss = criterion(outputs, labels)\n",
    "\n",
    "            optimizer.zero_grad()\n",
    "            loss.backward()\n",
    "            optimizer.step()\n",
    "\n",
    "            # save train performance\n",
    "            epoch_loss+=loss.item()\n",
    "            preds = 1*(outputs>0.5)\n",
    "            correct += (preds.reshape(-1,1) == labels).sum().item()\n",
    "            total += float(len(labels))\n",
    "        \n",
    "        # train loss and accuracy\n",
    "        epoch_loss = epoch_loss / len(dataloader)\n",
    "        epoch_accuracy = correct / total\n",
    "        loss_curve.append(epoch_loss)\n",
    "        accuracy_curve.append(epoch_accuracy)\n",
    "        \n",
    "        # validation accuracy \n",
    "        X_val_t = torch.tensor(X_val, dtype=torch.float) #instance variables\n",
    "        y_val_t = torch.tensor(y_val.reshape(-1,1), dtype=torch.float)\n",
    "        val_outputs = model(X_val_t.float())\n",
    "        val_preds = 1*(val_outputs>0.5)\n",
    "        val_accuracy = (val_preds.reshape(-1,1) == y_val_t).sum().item()/len(y_val)\n",
    "        \n",
    "        # test accuracy \n",
    "        X_test_t = torch.tensor(X_test, dtype=torch.float) #instance variables\n",
    "        y_test_t = torch.tensor(y_test.reshape(-1,1), dtype=torch.float)\n",
    "        test_outputs = model(X_test_t.float())\n",
    "        test_preds = 1*(test_outputs>0.5)\n",
    "        test_accuracy = (test_preds.reshape(-1,1) == y_test_t).sum().item()/len(y_test)\n",
    "        \n",
    "        print('epoch [{}/{}], mean epoch loss:{:.4f}, train acc:{:.4f}, val acc:{:.4f}, test acc:{:.4f}'.format(\n",
    "            epoch + 1, num_epochs, epoch_loss, epoch_accuracy, val_accuracy, test_accuracy))\n",
    "        \n",
    "    return model, loss_curve "
   ]
  },
  {
   "cell_type": "code",
   "execution_count": 883,
   "metadata": {},
   "outputs": [],
   "source": [
    "# initiate other inputs\n",
    "batch_size = 100\n",
    "device = torch.device(\"cuda\" if torch.cuda.is_available() else \"cpu\")\n",
    "criterion = nn.BCELoss()"
   ]
  },
  {
   "cell_type": "code",
   "execution_count": 897,
   "metadata": {},
   "outputs": [
    {
     "name": "stdout",
     "output_type": "stream",
     "text": [
      "epoch [1/7], mean epoch loss:0.1857, train acc:0.9286, val acc:0.9479, test acc:0.9507\n",
      "epoch [2/7], mean epoch loss:0.1298, train acc:0.9517, val acc:0.9521, test acc:0.9568\n",
      "epoch [3/7], mean epoch loss:0.1231, train acc:0.9542, val acc:0.9563, test acc:0.9595\n",
      "epoch [4/7], mean epoch loss:0.1164, train acc:0.9559, val acc:0.9563, test acc:0.9604\n",
      "epoch [5/7], mean epoch loss:0.1119, train acc:0.9579, val acc:0.9552, test acc:0.9615\n",
      "epoch [6/7], mean epoch loss:0.1113, train acc:0.9595, val acc:0.9579, test acc:0.9599\n",
      "epoch [7/7], mean epoch loss:0.1077, train acc:0.9602, val acc:0.9577, test acc:0.9608\n"
     ]
    }
   ],
   "source": [
    "# train models - only using title\n",
    "num_epochs = 7\n",
    "model_title = NeuralNetwork(X_train_title.shape[1],80,0.3)\n",
    "optimizer_title = optim.Adam(model_title.parameters(), lr=0.3e-3)\n",
    "nn_title, loss_curve_title= train(X_train_title, y_train_title, X_test_title, y_test_title, \n",
    "                                 model_title, batch_size, num_epochs, criterion, optimizer_title)"
   ]
  },
  {
   "cell_type": "code",
   "execution_count": 898,
   "metadata": {},
   "outputs": [
    {
     "name": "stdout",
     "output_type": "stream",
     "text": [
      "epoch [1/7], mean epoch loss:0.0943, train acc:0.9666, val acc:0.9813, test acc:0.9814\n",
      "epoch [2/7], mean epoch loss:0.0536, train acc:0.9812, val acc:0.9853, test acc:0.9845\n",
      "epoch [3/7], mean epoch loss:0.0440, train acc:0.9845, val acc:0.9874, test acc:0.9864\n",
      "epoch [4/7], mean epoch loss:0.0411, train acc:0.9863, val acc:0.9880, test acc:0.9866\n",
      "epoch [5/7], mean epoch loss:0.0355, train acc:0.9879, val acc:0.9872, test acc:0.9855\n",
      "epoch [6/7], mean epoch loss:0.0325, train acc:0.9886, val acc:0.9880, test acc:0.9862\n",
      "epoch [7/7], mean epoch loss:0.0332, train acc:0.9879, val acc:0.9885, test acc:0.9882\n"
     ]
    }
   ],
   "source": [
    "# train models - only using text\n",
    "num_epochs = 7\n",
    "model_text = NeuralNetwork(X_train_text.shape[1],300,0.5)\n",
    "optimizer_text = optim.Adam(model_text.parameters(), lr=0.5e-3)\n",
    "nn_text, loss_curve_text = train(X_train_text, y_train_text, X_test_text, y_test_text, \n",
    "                                 model_text, batch_size, num_epochs, criterion, optimizer_text)"
   ]
  },
  {
   "cell_type": "code",
   "execution_count": 910,
   "metadata": {},
   "outputs": [
    {
     "name": "stdout",
     "output_type": "stream",
     "text": [
      "epoch [1/7], mean epoch loss:0.0645, train acc:0.9776, val acc:0.9909, test acc:0.9907\n",
      "epoch [2/7], mean epoch loss:0.0311, train acc:0.9892, val acc:0.9909, test acc:0.9925\n",
      "epoch [3/7], mean epoch loss:0.0240, train acc:0.9919, val acc:0.9931, test acc:0.9933\n",
      "epoch [4/7], mean epoch loss:0.0234, train acc:0.9914, val acc:0.9933, test acc:0.9940\n",
      "epoch [5/7], mean epoch loss:0.0185, train acc:0.9933, val acc:0.9946, test acc:0.9941\n",
      "epoch [6/7], mean epoch loss:0.0151, train acc:0.9946, val acc:0.9943, test acc:0.9940\n",
      "epoch [7/7], mean epoch loss:0.0144, train acc:0.9947, val acc:0.9939, test acc:0.9947\n"
     ]
    }
   ],
   "source": [
    "# train models - using text and title\n",
    "num_epochs = 7\n",
    "model_title_text = NeuralNetwork(X_train_title_text.shape[1],500,0.7)\n",
    "optimizer_title_text = optim.Adam(model_title_text.parameters(), lr=0.5e-3)\n",
    "nn_title_text, loss_curve_title_text = train(X_train_title_text, y_train_title_text, X_test_title_text, y_test_title_text,\n",
    "                                             model_title_text, batch_size, num_epochs, criterion, optimizer_title_text)"
   ]
  },
  {
   "cell_type": "code",
   "execution_count": 900,
   "metadata": {},
   "outputs": [
    {
     "name": "stdout",
     "output_type": "stream",
     "text": [
      "epoch [1/7], mean epoch loss:0.1759, train acc:0.9326, val acc:0.9514, test acc:0.9611\n",
      "epoch [2/7], mean epoch loss:0.1151, train acc:0.9583, val acc:0.9591, test acc:0.9662\n",
      "epoch [3/7], mean epoch loss:0.1031, train acc:0.9631, val acc:0.9632, test acc:0.9686\n",
      "epoch [4/7], mean epoch loss:0.1038, train acc:0.9636, val acc:0.9581, test acc:0.9670\n",
      "epoch [5/7], mean epoch loss:0.0957, train acc:0.9658, val acc:0.9591, test acc:0.9696\n",
      "epoch [6/7], mean epoch loss:0.0846, train acc:0.9682, val acc:0.9603, test acc:0.9697\n",
      "epoch [7/7], mean epoch loss:0.0827, train acc:0.9699, val acc:0.9657, test acc:0.9702\n"
     ]
    }
   ],
   "source": [
    "# train models - only using title_politics\n",
    "num_epochs = 7\n",
    "model_title = NeuralNetwork(X_train_title.shape[1],80,0.3)\n",
    "optimizer_title = optim.Adam(model_title.parameters(), lr=0.3e-3)\n",
    "nn_title_p, loss_curve_title_p= train(X_train_title_p, y_train_title_p, X_test_title_p, y_test_title_p, \n",
    "                                 model_title, batch_size, num_epochs, criterion, optimizer_title)"
   ]
  },
  {
   "cell_type": "code",
   "execution_count": 903,
   "metadata": {},
   "outputs": [
    {
     "name": "stdout",
     "output_type": "stream",
     "text": [
      "epoch [1/7], mean epoch loss:0.1003, train acc:0.9656, val acc:0.9803, test acc:0.9840\n",
      "epoch [2/7], mean epoch loss:0.0553, train acc:0.9853, val acc:0.9860, test acc:0.9876\n",
      "epoch [3/7], mean epoch loss:0.0341, train acc:0.9896, val acc:0.9889, test acc:0.9889\n",
      "epoch [4/7], mean epoch loss:0.0253, train acc:0.9914, val acc:0.9886, test acc:0.9899\n",
      "epoch [5/7], mean epoch loss:0.0239, train acc:0.9917, val acc:0.9908, test acc:0.9920\n",
      "epoch [6/7], mean epoch loss:0.0224, train acc:0.9926, val acc:0.9921, test acc:0.9928\n",
      "epoch [7/7], mean epoch loss:0.0179, train acc:0.9935, val acc:0.9911, test acc:0.9923\n"
     ]
    }
   ],
   "source": [
    "# train models - only using text_politics\n",
    "num_epochs = 7\n",
    "model_text = NeuralNetwork(X_train_text.shape[1],300,0.5)\n",
    "optimizer_text = optim.Adam(model_text.parameters(), lr=0.5e-3)\n",
    "nn_text_p, loss_curve_text_p = train(X_train_text_p, y_train_text_p, X_test_text_p, y_test_text_p, \n",
    "                                 model_text, batch_size, num_epochs, criterion, optimizer_text)"
   ]
  },
  {
   "cell_type": "code",
   "execution_count": 912,
   "metadata": {},
   "outputs": [
    {
     "name": "stdout",
     "output_type": "stream",
     "text": [
      "epoch [1/7], mean epoch loss:0.0857, train acc:0.9727, val acc:0.9908, test acc:0.9924\n",
      "epoch [2/7], mean epoch loss:0.0554, train acc:0.9902, val acc:0.9937, test acc:0.9929\n",
      "epoch [3/7], mean epoch loss:0.0263, train acc:0.9925, val acc:0.9952, test acc:0.9938\n",
      "epoch [4/7], mean epoch loss:0.0194, train acc:0.9945, val acc:0.9937, test acc:0.9946\n",
      "epoch [5/7], mean epoch loss:0.0157, train acc:0.9947, val acc:0.9946, test acc:0.9948\n",
      "epoch [6/7], mean epoch loss:0.0113, train acc:0.9964, val acc:0.9952, test acc:0.9960\n",
      "epoch [7/7], mean epoch loss:0.0104, train acc:0.9967, val acc:0.9971, test acc:0.9957\n"
     ]
    }
   ],
   "source": [
    "# train models - using text and title_politics\n",
    "num_epochs = 7\n",
    "model_title_text = NeuralNetwork(X_train_title_text.shape[1],500,0.7)\n",
    "optimizer_title_text = optim.Adam(model_title_text.parameters(), lr=0.5e-3)\n",
    "nn_title_text_p, loss_curve_title_text_p = train(X_train_title_text_p, y_train_title_text_p, X_test_title_text_p, y_test_title_text_p,\n",
    "                                             model_title_text, batch_size, num_epochs, criterion, optimizer_title_text)"
   ]
  },
  {
   "cell_type": "code",
   "execution_count": 982,
   "metadata": {},
   "outputs": [
    {
     "data": {
      "image/png": "[encoded data removed]",
      "text/plain": [
       "<Figure size 432x288 with 1 Axes>"
      ]
     },
     "metadata": {
      "needs_background": "light"
     },
     "output_type": "display_data"
    }
   ],
   "source": [
    "plt.plot(loss_curve_title, label = \"title\")\n",
    "plt.plot(loss_curve_text, label = \"text\")\n",
    "plt.plot(loss_curve_title_text, label = \"title_text\")\n",
    "plt.plot(loss_curve_title_p, label = \"title_p\")\n",
    "plt.plot(loss_curve_text_p, label = \"text_p\")\n",
    "plt.plot(loss_curve_title_text_p, label = \"title_text\")\n",
    "plt.title(\"Mean Train Loss for Each Epoch\")\n",
    "plt.legend(loc=\"upper right\", bbox_to_anchor=(1, 1), ncol=2)\n",
    "plt.show()"
   ]
  },
  {
   "cell_type": "markdown",
   "metadata": {},
   "source": [
    "## LSTM, LIME (Future work)\n",
    "https://www.kaggle.com/muhammadshahzadkhan/is-it-real-news-nlp-lstm-acc-99-9\n",
    "https://github.com/marcotcr/lime/blob/master/doc/notebooks/Lime%20-%20basic%20usage%2C%20two%20class%20case.ipynb"
   ]
  }
 ],
 "metadata": {
  "kernelspec": {
   "display_name": "Python 3",
   "language": "python",
   "name": "python3"
  },
  "language_info": {
   "codemirror_mode": {
    "name": "ipython",
    "version": 3
   },
   "file_extension": ".py",
   "mimetype": "text/x-python",
   "name": "python",
   "nbconvert_exporter": "python",
   "pygments_lexer": "ipython3",
   "version": "3.7.6"
  }
 },
 "nbformat": 4,
 "nbformat_minor": 4
}
