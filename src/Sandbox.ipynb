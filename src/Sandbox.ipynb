{
 "cells": [
  {
   "cell_type": "code",
   "execution_count": 3,
   "metadata": {},
   "outputs": [],
   "source": [
    "import pandas as pd\n",
    "import numpy as np\n",
    "from collections import Counter"
   ]
  },
  {
   "cell_type": "markdown",
   "metadata": {},
   "source": [
    "# Import Data"
   ]
  },
  {
   "cell_type": "code",
   "execution_count": 260,
   "metadata": {},
   "outputs": [],
   "source": [
    "news_df = pd.read_csv('../data_intermed/news.csv')\n",
    "news_df = news_df[news_df['text']!=\" \"]"
   ]
  },
  {
   "cell_type": "code",
   "execution_count": 261,
   "metadata": {},
   "outputs": [],
   "source": [
    "puretext = news_df.puretext.values"
   ]
  },
  {
   "cell_type": "code",
   "execution_count": 262,
   "metadata": {},
   "outputs": [
    {
     "data": {
      "text/html": [
       "<div>\n",
       "<style scoped>\n",
       "    .dataframe tbody tr th:only-of-type {\n",
       "        vertical-align: middle;\n",
       "    }\n",
       "\n",
       "    .dataframe tbody tr th {\n",
       "        vertical-align: top;\n",
       "    }\n",
       "\n",
       "    .dataframe thead th {\n",
       "        text-align: right;\n",
       "    }\n",
       "</style>\n",
       "<table border=\"1\" class=\"dataframe\">\n",
       "  <thead>\n",
       "    <tr style=\"text-align: right;\">\n",
       "      <th></th>\n",
       "      <th>Unnamed: 0</th>\n",
       "      <th>title</th>\n",
       "      <th>text</th>\n",
       "      <th>subject</th>\n",
       "      <th>date</th>\n",
       "      <th>label</th>\n",
       "      <th>cleantext</th>\n",
       "      <th>source</th>\n",
       "      <th>puretext</th>\n",
       "      <th>puretitle</th>\n",
       "      <th>puretext_wpunc</th>\n",
       "      <th>puretitle_wpunc</th>\n",
       "    </tr>\n",
       "  </thead>\n",
       "  <tbody>\n",
       "    <tr>\n",
       "      <th>0</th>\n",
       "      <td>0</td>\n",
       "      <td>As U.S. budget fight looms, Republicans flip t...</td>\n",
       "      <td>WASHINGTON (Reuters) - The head of a conservat...</td>\n",
       "      <td>politicsNews</td>\n",
       "      <td>December 31, 2017</td>\n",
       "      <td>true</td>\n",
       "      <td>The head of a conservative Republican faction ...</td>\n",
       "      <td>WASHINGTON (Reuters)</td>\n",
       "      <td>the head of a conservative republican faction ...</td>\n",
       "      <td>as us budget fight looms republicans flip thei...</td>\n",
       "      <td>the head of a conservative republican faction ...</td>\n",
       "      <td>as u.s. budget fight looms, republicans flip t...</td>\n",
       "    </tr>\n",
       "    <tr>\n",
       "      <th>1</th>\n",
       "      <td>1</td>\n",
       "      <td>U.S. military to accept transgender recruits o...</td>\n",
       "      <td>WASHINGTON (Reuters) - Transgender people will...</td>\n",
       "      <td>politicsNews</td>\n",
       "      <td>December 29, 2017</td>\n",
       "      <td>true</td>\n",
       "      <td>Transgender people will be allowed for the fir...</td>\n",
       "      <td>WASHINGTON (Reuters)</td>\n",
       "      <td>transgender people will be allowed for the fir...</td>\n",
       "      <td>us military to accept transgender recruits on ...</td>\n",
       "      <td>transgender people will be allowed for the fir...</td>\n",
       "      <td>u.s. military to accept transgender recruits o...</td>\n",
       "    </tr>\n",
       "  </tbody>\n",
       "</table>\n",
       "</div>"
      ],
      "text/plain": [
       "   Unnamed: 0                                              title  \\\n",
       "0           0  As U.S. budget fight looms, Republicans flip t...   \n",
       "1           1  U.S. military to accept transgender recruits o...   \n",
       "\n",
       "                                                text       subject  \\\n",
       "0  WASHINGTON (Reuters) - The head of a conservat...  politicsNews   \n",
       "1  WASHINGTON (Reuters) - Transgender people will...  politicsNews   \n",
       "\n",
       "                 date label  \\\n",
       "0  December 31, 2017   true   \n",
       "1  December 29, 2017   true   \n",
       "\n",
       "                                           cleantext                source  \\\n",
       "0  The head of a conservative Republican faction ...  WASHINGTON (Reuters)   \n",
       "1  Transgender people will be allowed for the fir...  WASHINGTON (Reuters)   \n",
       "\n",
       "                                            puretext  \\\n",
       "0  the head of a conservative republican faction ...   \n",
       "1  transgender people will be allowed for the fir...   \n",
       "\n",
       "                                           puretitle  \\\n",
       "0  as us budget fight looms republicans flip thei...   \n",
       "1  us military to accept transgender recruits on ...   \n",
       "\n",
       "                                      puretext_wpunc  \\\n",
       "0  the head of a conservative republican faction ...   \n",
       "1  transgender people will be allowed for the fir...   \n",
       "\n",
       "                                     puretitle_wpunc  \n",
       "0  as u.s. budget fight looms, republicans flip t...  \n",
       "1  u.s. military to accept transgender recruits o...  "
      ]
     },
     "execution_count": 262,
     "metadata": {},
     "output_type": "execute_result"
    }
   ],
   "source": [
    "news_df.head(2)"
   ]
  },
  {
   "cell_type": "code",
   "execution_count": 265,
   "metadata": {},
   "outputs": [
    {
     "data": {
      "text/plain": [
       "'Here s Pence getting booed as he gets to his seats at Hamilton pic.twitter.com/IRQG68x1sB  David K (@dkipke12) November 19, 2016Yes #MikePence was at @HamiltonMusical here s what we had to say pic.twitter.com/YIjt7JZ3gF  G R E G O R Y (@ghaney22) November 19, 2016'"
      ]
     },
     "execution_count": 265,
     "metadata": {},
     "output_type": "execute_result"
    }
   ],
   "source": [
    "news_df[news_df['label']=='fake']['text'][41008]"
   ]
  },
  {
   "cell_type": "code",
   "execution_count": 267,
   "metadata": {},
   "outputs": [
    {
     "data": {
      "text/plain": [
       "'You re gonna love this!The left has been screaming for decades about the government interfering in their right to kill their babies. Because after all, even though it s a human life in its earliest stages of development; it s growing inside their womb, so the government has no business protecting the innocent life of that baby in THEIR bodies.Strangely enough, the left is angry about Trump s decision to let the states decide if they will or will not force its citizens to share a bathroom or public shower with a person who claims to be a certain gender contrary to what their genitals say they are. Clearly the hypocritical left can t make up their mind when it s okay, or when it s not okay for the government to tell citizens what they can or cannot do '"
      ]
     },
     "execution_count": 267,
     "metadata": {},
     "output_type": "execute_result"
    }
   ],
   "source": [
    "news_df[news_df['label']=='fake']['text'][33001]"
   ]
  },
  {
   "cell_type": "code",
   "execution_count": 268,
   "metadata": {},
   "outputs": [
    {
     "data": {
      "text/plain": [
       "'WASHINGTON (Reuters) - Transgender people will be allowed for the first time to enlist in the U.S. military starting on Monday as ordered by federal courts, the Pentagon said on Friday, after President Donald Trump’s administration decided not to appeal rulings that blocked his transgender ban. Two federal appeals courts, one in Washington and one in Virginia, last week rejected the administration’s request to put on hold orders by lower court judges requiring the military to begin accepting transgender recruits on Jan. 1. A Justice Department official said the administration will not challenge those rulings. “The Department of Defense has announced that it will be releasing an independent study of these issues in the coming weeks. So rather than litigate this interim appeal before that occurs, the administration has decided to wait for DOD’s study and will continue to defend the president’s lawful authority in District Court in the meantime,” the official said, speaking on condition of anonymity. In September, the Pentagon said it had created a panel of senior officials to study how to implement a directive by Trump to prohibit transgender individuals from serving. The Defense Department has until Feb. 21 to submit a plan to Trump. Lawyers representing currently-serving transgender service members and aspiring recruits said they had expected the administration to appeal the rulings to the conservative-majority Supreme Court, but were hoping that would not happen. Pentagon spokeswoman Heather Babb said in a statement: “As mandated by court order, the Department of Defense is prepared to begin accessing transgender applicants for military service Jan. 1. All applicants must meet all accession standards.” Jennifer Levi, a lawyer with gay, lesbian and transgender advocacy group GLAD, called the decision not to appeal “great news.” “I’m hoping it means the government has come to see that there is no way to justify a ban and that it’s not good for the military or our country,” Levi said. Both GLAD and the American Civil Liberties Union represent plaintiffs in the lawsuits filed against the administration. In a move that appealed to his hard-line conservative supporters, Trump announced in July that he would prohibit transgender people from serving in the military, reversing Democratic President Barack Obama’s policy of accepting them. Trump said on Twitter at the time that the military “cannot be burdened with the tremendous medical costs and disruption that transgender in the military would entail.” Four federal judges - in Baltimore, Washington, D.C., Seattle and Riverside, California - have issued rulings blocking Trump’s ban while legal challenges to the Republican president’s policy proceed. The judges said the ban would likely violate the right under the U.S. Constitution to equal protection under the law. The Pentagon on Dec. 8 issued guidelines to recruitment personnel in order to enlist transgender applicants by Jan. 1. The memo outlined medical requirements and specified how the applicants’ sex would be identified and even which undergarments they would wear. The Trump administration previously said in legal papers that the armed forces were not prepared to train thousands of personnel on the medical standards needed to process transgender applicants and might have to accept “some individuals who are not medically fit for service.” The Obama administration had set a deadline of July 1, 2017, to begin accepting transgender recruits. But Trump’s defense secretary, James Mattis, postponed that date to Jan. 1, 2018, which the president’s ban then put off indefinitely. Trump has taken other steps aimed at rolling back transgender rights. In October, his administration said a federal law banning gender-based workplace discrimination does not protect transgender employees, reversing another Obama-era position. In February, Trump rescinded guidance issued by the Obama administration saying that public schools should allow transgender students to use the restroom that corresponds to their gender identity. '"
      ]
     },
     "execution_count": 268,
     "metadata": {},
     "output_type": "execute_result"
    }
   ],
   "source": [
    "news_df[news_df['label']=='true']['text'][1]"
   ]
  },
  {
   "cell_type": "code",
   "execution_count": 269,
   "metadata": {},
   "outputs": [],
   "source": [
    "def searchSource(text, term):\n",
    "    return term in text"
   ]
  },
  {
   "cell_type": "code",
   "execution_count": 322,
   "metadata": {},
   "outputs": [],
   "source": [
    "news_df['21stCenturyWire'] = news_df['puretext'].apply(lambda x: searchSource(x, '21st century wire'))\n",
    "news_df['video_title'] = news_df['puretitle'].apply(lambda x: searchSource(x, 'video'))\n",
    "news_df['(VIDEO)_title'] = news_df['title'].apply(lambda x: searchSource(x, '(VIDEO)'))\n",
    "news_df['[VIDEO]_title'] = news_df['title'].apply(lambda x: searchSource(x, '[VIDEO]'))\n",
    "news_df['VIDEO_title'] = news_df['title'].apply(lambda x: searchSource(x, 'VIDEO'))\n",
    "news_df['Video_title'] = news_df['title'].apply(lambda x: searchSource(x, 'Video'))\n",
    "news_df['Videos_title'] = news_df['title'].apply(lambda x: searchSource(x, 'Videos'))\n",
    "news_df['images_title'] = news_df['puretitle'].apply(lambda x: searchSource(x, 'images'))\n",
    "news_df['IMAGES_title'] = news_df['title'].apply(lambda x: searchSource(x, 'IMAGES'))\n",
    "news_df['Reuters'] = news_df['text'].apply(lambda x: searchSource(x, 'Reuters'))"
   ]
  },
  {
   "cell_type": "code",
   "execution_count": 323,
   "metadata": {},
   "outputs": [
    {
     "data": {
      "text/html": [
       "<div>\n",
       "<style scoped>\n",
       "    .dataframe tbody tr th:only-of-type {\n",
       "        vertical-align: middle;\n",
       "    }\n",
       "\n",
       "    .dataframe tbody tr th {\n",
       "        vertical-align: top;\n",
       "    }\n",
       "\n",
       "    .dataframe thead th {\n",
       "        text-align: right;\n",
       "    }\n",
       "</style>\n",
       "<table border=\"1\" class=\"dataframe\">\n",
       "  <thead>\n",
       "    <tr style=\"text-align: right;\">\n",
       "      <th></th>\n",
       "      <th>Unnamed: 0</th>\n",
       "      <th>21stCenturyWire</th>\n",
       "      <th>video_title</th>\n",
       "      <th>images_title</th>\n",
       "      <th>Reuters</th>\n",
       "      <th>numUniqueWords</th>\n",
       "      <th>numWords</th>\n",
       "      <th>percUniqueWords</th>\n",
       "      <th>VIDEO_title</th>\n",
       "      <th>IMAGES_title</th>\n",
       "      <th>(VIDEO)_title</th>\n",
       "      <th>[VIDEO]_title</th>\n",
       "      <th>Video_title</th>\n",
       "      <th>Videos_title</th>\n",
       "    </tr>\n",
       "    <tr>\n",
       "      <th>label</th>\n",
       "      <th></th>\n",
       "      <th></th>\n",
       "      <th></th>\n",
       "      <th></th>\n",
       "      <th></th>\n",
       "      <th></th>\n",
       "      <th></th>\n",
       "      <th></th>\n",
       "      <th></th>\n",
       "      <th></th>\n",
       "      <th></th>\n",
       "      <th></th>\n",
       "      <th></th>\n",
       "      <th></th>\n",
       "    </tr>\n",
       "  </thead>\n",
       "  <tbody>\n",
       "    <tr>\n",
       "      <th>fake</th>\n",
       "      <td>756009231</td>\n",
       "      <td>1254.0</td>\n",
       "      <td>7855.0</td>\n",
       "      <td>164.0</td>\n",
       "      <td>311.0</td>\n",
       "      <td>5100157</td>\n",
       "      <td>9903049</td>\n",
       "      <td>13187.041939</td>\n",
       "      <td>5314.0</td>\n",
       "      <td>156.0</td>\n",
       "      <td>2492.0</td>\n",
       "      <td>2372.0</td>\n",
       "      <td>2645.0</td>\n",
       "      <td>28.0</td>\n",
       "    </tr>\n",
       "    <tr>\n",
       "      <th>true</th>\n",
       "      <td>229324266</td>\n",
       "      <td>0.0</td>\n",
       "      <td>40.0</td>\n",
       "      <td>2.0</td>\n",
       "      <td>21378.0</td>\n",
       "      <td>4398683</td>\n",
       "      <td>8186269</td>\n",
       "      <td>12760.516454</td>\n",
       "      <td>0.0</td>\n",
       "      <td>0.0</td>\n",
       "      <td>0.0</td>\n",
       "      <td>0.0</td>\n",
       "      <td>1.0</td>\n",
       "      <td>0.0</td>\n",
       "    </tr>\n",
       "  </tbody>\n",
       "</table>\n",
       "</div>"
      ],
      "text/plain": [
       "       Unnamed: 0  21stCenturyWire  video_title  images_title  Reuters  \\\n",
       "label                                                                    \n",
       "fake    756009231           1254.0       7855.0         164.0    311.0   \n",
       "true    229324266              0.0         40.0           2.0  21378.0   \n",
       "\n",
       "       numUniqueWords  numWords  percUniqueWords  VIDEO_title  IMAGES_title  \\\n",
       "label                                                                         \n",
       "fake          5100157   9903049     13187.041939       5314.0         156.0   \n",
       "true          4398683   8186269     12760.516454          0.0           0.0   \n",
       "\n",
       "       (VIDEO)_title  [VIDEO]_title  Video_title  Videos_title  \n",
       "label                                                           \n",
       "fake          2492.0         2372.0       2645.0          28.0  \n",
       "true             0.0            0.0          1.0           0.0  "
      ]
     },
     "execution_count": 323,
     "metadata": {},
     "output_type": "execute_result"
    }
   ],
   "source": [
    "news_df.groupby('label').sum()"
   ]
  },
  {
   "cell_type": "code",
   "execution_count": 318,
   "metadata": {},
   "outputs": [
    {
     "data": {
      "text/plain": [
       "21435     SNL Hilariously Mocks Accused Child Molester ...\n",
       "21441     White House: It Wasn’t Sexist For Trump To Sl...\n",
       "21443     Accused Child Molesting Senate Candidate Roy ...\n",
       "21445     Liberal Group Trolls Trump At Roy Moore Rally...\n",
       "21458     ‘Ghost Of Witness Flipped’: Hilarious SNL Ski...\n",
       "                               ...                        \n",
       "44637    VIDEO: Watch James O’Keefe Easily Obtain Emine...\n",
       "44655    AGITPROP MACHINE: How the US create Fake Al Qa...\n",
       "44711    VIDEO: Top 10 Most Embarrassing Presidential F...\n",
       "44721                    VIDEO: The Dallas Shooting Agenda\n",
       "44876    FBI Release Oregon Video Footage Depicting Dea...\n",
       "Name: title, Length: 7855, dtype: object"
      ]
     },
     "execution_count": 318,
     "metadata": {},
     "output_type": "execute_result"
    }
   ],
   "source": [
    "news_df[(news_df.video_title== True) & (news_df.label == \"fake\")].title"
   ]
  },
  {
   "cell_type": "code",
   "execution_count": 320,
   "metadata": {},
   "outputs": [],
   "source": [
    "import re"
   ]
  },
  {
   "cell_type": "code",
   "execution_count": 321,
   "metadata": {},
   "outputs": [
    {
     "data": {
      "text/plain": [
       "'VIDEO: XX'"
      ]
     },
     "execution_count": 321,
     "metadata": {},
     "output_type": "execute_result"
    }
   ],
   "source": [
    "re.sub('\\(Video\\)|(\\(|\\[)(.)*VIDEO(S)?(.)*(\\)|\\])','','VIDEO: XX')"
   ]
  },
  {
   "cell_type": "code",
   "execution_count": 116,
   "metadata": {},
   "outputs": [],
   "source": [
    "# # remove punctuation and tokenize\n",
    "# import nltk\n",
    "# nltk.download('stopwords')\n",
    "# nltk.download('wordnet')\n",
    "# nltk.download('punkt')\n",
    "# nltk.download('averaged_perceptron_tagger')"
   ]
  },
  {
   "cell_type": "code",
   "execution_count": 117,
   "metadata": {},
   "outputs": [],
   "source": [
    "# # clean to tokenize text and title\n",
    "# tokenizer_nltk = nltk.RegexpTokenizer(r\"\\w+\")\n",
    "# news_df['texttoken'] = news_df['puretext'].apply(lambda x: tokenizer_nltk.tokenize(x))\n",
    "# news_df['titletoken'] = news_df['title'].apply(lambda x: tokenizer_nltk.tokenize(x))"
   ]
  },
  {
   "cell_type": "markdown",
   "metadata": {},
   "source": [
    "# Count Number of Words"
   ]
  },
  {
   "cell_type": "code",
   "execution_count": 277,
   "metadata": {},
   "outputs": [],
   "source": [
    "def numUniqueWords(text):\n",
    "    return len(Counter(text.split()))\n",
    "\n",
    "def numWords(text):\n",
    "    return len(text.split())"
   ]
  },
  {
   "cell_type": "code",
   "execution_count": 278,
   "metadata": {},
   "outputs": [
    {
     "data": {
      "text/plain": [
       "(381, 743)"
      ]
     },
     "execution_count": 278,
     "metadata": {},
     "output_type": "execute_result"
    }
   ],
   "source": [
    "numUniqueWords(puretext[0]), numWords(puretext[0])"
   ]
  },
  {
   "cell_type": "code",
   "execution_count": 279,
   "metadata": {},
   "outputs": [],
   "source": [
    "news_df['numUniqueWords'] = news_df['puretext'].apply(lambda x: numUniqueWords(x))\n",
    "news_df['numWords'] = news_df['puretext'].apply(lambda x: numWords(x))+1\n",
    "news_df['percUniqueWords'] = news_df['numUniqueWords']/news_df['numWords']"
   ]
  },
  {
   "cell_type": "code",
   "execution_count": 280,
   "metadata": {},
   "outputs": [
    {
     "data": {
      "text/html": [
       "<div>\n",
       "<style scoped>\n",
       "    .dataframe tbody tr th:only-of-type {\n",
       "        vertical-align: middle;\n",
       "    }\n",
       "\n",
       "    .dataframe tbody tr th {\n",
       "        vertical-align: top;\n",
       "    }\n",
       "\n",
       "    .dataframe thead th {\n",
       "        text-align: right;\n",
       "    }\n",
       "</style>\n",
       "<table border=\"1\" class=\"dataframe\">\n",
       "  <thead>\n",
       "    <tr style=\"text-align: right;\">\n",
       "      <th></th>\n",
       "      <th>total</th>\n",
       "      <th>21stCenturyWire</th>\n",
       "      <th>video_title</th>\n",
       "      <th>images_title</th>\n",
       "      <th>Reuters</th>\n",
       "      <th>numUniqueWords</th>\n",
       "      <th>numWords</th>\n",
       "      <th>percUniqueWords</th>\n",
       "    </tr>\n",
       "    <tr>\n",
       "      <th>label</th>\n",
       "      <th></th>\n",
       "      <th></th>\n",
       "      <th></th>\n",
       "      <th></th>\n",
       "      <th></th>\n",
       "      <th></th>\n",
       "      <th></th>\n",
       "      <th></th>\n",
       "    </tr>\n",
       "  </thead>\n",
       "  <tbody>\n",
       "    <tr>\n",
       "      <th>fake</th>\n",
       "      <td>756009231</td>\n",
       "      <td>1254.0</td>\n",
       "      <td>7855.0</td>\n",
       "      <td>164.0</td>\n",
       "      <td>311.0</td>\n",
       "      <td>5100157</td>\n",
       "      <td>9903049</td>\n",
       "      <td>13187.041939</td>\n",
       "    </tr>\n",
       "    <tr>\n",
       "      <th>true</th>\n",
       "      <td>229324266</td>\n",
       "      <td>0.0</td>\n",
       "      <td>40.0</td>\n",
       "      <td>2.0</td>\n",
       "      <td>21378.0</td>\n",
       "      <td>4398683</td>\n",
       "      <td>8186269</td>\n",
       "      <td>12760.516454</td>\n",
       "    </tr>\n",
       "  </tbody>\n",
       "</table>\n",
       "</div>"
      ],
      "text/plain": [
       "           total  21stCenturyWire  video_title  images_title  Reuters  \\\n",
       "label                                                                   \n",
       "fake   756009231           1254.0       7855.0         164.0    311.0   \n",
       "true   229324266              0.0         40.0           2.0  21378.0   \n",
       "\n",
       "       numUniqueWords  numWords  percUniqueWords  \n",
       "label                                             \n",
       "fake          5100157   9903049     13187.041939  \n",
       "true          4398683   8186269     12760.516454  "
      ]
     },
     "execution_count": 280,
     "metadata": {},
     "output_type": "execute_result"
    }
   ],
   "source": [
    "word_counts = news_df.groupby('label').sum()\n",
    "word_counts.rename(columns={'Unnamed: 0': 'total'})"
   ]
  },
  {
   "cell_type": "code",
   "execution_count": 281,
   "metadata": {},
   "outputs": [
    {
     "data": {
      "text/html": [
       "<div>\n",
       "<style scoped>\n",
       "    .dataframe tbody tr th:only-of-type {\n",
       "        vertical-align: middle;\n",
       "    }\n",
       "\n",
       "    .dataframe tbody tr th {\n",
       "        vertical-align: top;\n",
       "    }\n",
       "\n",
       "    .dataframe thead th {\n",
       "        text-align: right;\n",
       "    }\n",
       "</style>\n",
       "<table border=\"1\" class=\"dataframe\">\n",
       "  <thead>\n",
       "    <tr style=\"text-align: right;\">\n",
       "      <th></th>\n",
       "      <th>Unnamed: 0</th>\n",
       "      <th>21stCenturyWire</th>\n",
       "      <th>video_title</th>\n",
       "      <th>images_title</th>\n",
       "      <th>Reuters</th>\n",
       "      <th>numUniqueWords</th>\n",
       "      <th>numWords</th>\n",
       "      <th>percUniqueWords</th>\n",
       "    </tr>\n",
       "    <tr>\n",
       "      <th>label</th>\n",
       "      <th></th>\n",
       "      <th></th>\n",
       "      <th></th>\n",
       "      <th></th>\n",
       "      <th></th>\n",
       "      <th></th>\n",
       "      <th></th>\n",
       "      <th></th>\n",
       "    </tr>\n",
       "  </thead>\n",
       "  <tbody>\n",
       "    <tr>\n",
       "      <th>fake</th>\n",
       "      <td>32909.0</td>\n",
       "      <td>False</td>\n",
       "      <td>False</td>\n",
       "      <td>False</td>\n",
       "      <td>False</td>\n",
       "      <td>205.0</td>\n",
       "      <td>367.0</td>\n",
       "      <td>0.559028</td>\n",
       "    </tr>\n",
       "    <tr>\n",
       "      <th>true</th>\n",
       "      <td>10708.5</td>\n",
       "      <td>False</td>\n",
       "      <td>False</td>\n",
       "      <td>False</td>\n",
       "      <td>True</td>\n",
       "      <td>200.0</td>\n",
       "      <td>357.0</td>\n",
       "      <td>0.573676</td>\n",
       "    </tr>\n",
       "  </tbody>\n",
       "</table>\n",
       "</div>"
      ],
      "text/plain": [
       "       Unnamed: 0  21stCenturyWire  video_title  images_title  Reuters  \\\n",
       "label                                                                    \n",
       "fake      32909.0            False        False         False    False   \n",
       "true      10708.5            False        False         False     True   \n",
       "\n",
       "       numUniqueWords  numWords  percUniqueWords  \n",
       "label                                             \n",
       "fake            205.0     367.0         0.559028  \n",
       "true            200.0     357.0         0.573676  "
      ]
     },
     "execution_count": 281,
     "metadata": {},
     "output_type": "execute_result"
    }
   ],
   "source": [
    "news_df.groupby('label').median()"
   ]
  },
  {
   "cell_type": "code",
   "execution_count": 283,
   "metadata": {},
   "outputs": [
    {
     "data": {
      "text/html": [
       "<div>\n",
       "<style scoped>\n",
       "    .dataframe tbody tr th:only-of-type {\n",
       "        vertical-align: middle;\n",
       "    }\n",
       "\n",
       "    .dataframe tbody tr th {\n",
       "        vertical-align: top;\n",
       "    }\n",
       "\n",
       "    .dataframe thead th {\n",
       "        text-align: right;\n",
       "    }\n",
       "</style>\n",
       "<table border=\"1\" class=\"dataframe\">\n",
       "  <thead>\n",
       "    <tr style=\"text-align: right;\">\n",
       "      <th></th>\n",
       "      <th></th>\n",
       "      <th>Unnamed: 0</th>\n",
       "      <th>21stCenturyWire</th>\n",
       "      <th>images_title</th>\n",
       "      <th>Reuters</th>\n",
       "      <th>numUniqueWords</th>\n",
       "      <th>numWords</th>\n",
       "      <th>percUniqueWords</th>\n",
       "    </tr>\n",
       "    <tr>\n",
       "      <th>label</th>\n",
       "      <th>video_title</th>\n",
       "      <th></th>\n",
       "      <th></th>\n",
       "      <th></th>\n",
       "      <th></th>\n",
       "      <th></th>\n",
       "      <th></th>\n",
       "      <th></th>\n",
       "    </tr>\n",
       "  </thead>\n",
       "  <tbody>\n",
       "    <tr>\n",
       "      <th rowspan=\"2\" valign=\"top\">fake</th>\n",
       "      <th>False</th>\n",
       "      <td>32324.0</td>\n",
       "      <td>False</td>\n",
       "      <td>False</td>\n",
       "      <td>False</td>\n",
       "      <td>220.0</td>\n",
       "      <td>399.0</td>\n",
       "      <td>0.550239</td>\n",
       "    </tr>\n",
       "    <tr>\n",
       "      <th>True</th>\n",
       "      <td>33365.0</td>\n",
       "      <td>False</td>\n",
       "      <td>False</td>\n",
       "      <td>False</td>\n",
       "      <td>178.0</td>\n",
       "      <td>311.0</td>\n",
       "      <td>0.578788</td>\n",
       "    </tr>\n",
       "    <tr>\n",
       "      <th rowspan=\"2\" valign=\"top\">true</th>\n",
       "      <th>False</th>\n",
       "      <td>10710.5</td>\n",
       "      <td>False</td>\n",
       "      <td>False</td>\n",
       "      <td>True</td>\n",
       "      <td>200.0</td>\n",
       "      <td>357.0</td>\n",
       "      <td>0.573770</td>\n",
       "    </tr>\n",
       "    <tr>\n",
       "      <th>True</th>\n",
       "      <td>9791.0</td>\n",
       "      <td>False</td>\n",
       "      <td>False</td>\n",
       "      <td>True</td>\n",
       "      <td>230.0</td>\n",
       "      <td>411.0</td>\n",
       "      <td>0.547586</td>\n",
       "    </tr>\n",
       "  </tbody>\n",
       "</table>\n",
       "</div>"
      ],
      "text/plain": [
       "                   Unnamed: 0  21stCenturyWire  images_title  Reuters  \\\n",
       "label video_title                                                       \n",
       "fake  False           32324.0            False         False    False   \n",
       "      True            33365.0            False         False    False   \n",
       "true  False           10710.5            False         False     True   \n",
       "      True             9791.0            False         False     True   \n",
       "\n",
       "                   numUniqueWords  numWords  percUniqueWords  \n",
       "label video_title                                             \n",
       "fake  False                 220.0     399.0         0.550239  \n",
       "      True                  178.0     311.0         0.578788  \n",
       "true  False                 200.0     357.0         0.573770  \n",
       "      True                  230.0     411.0         0.547586  "
      ]
     },
     "execution_count": 283,
     "metadata": {},
     "output_type": "execute_result"
    }
   ],
   "source": [
    "news_df.groupby(['label','video_title']).median()"
   ]
  },
  {
   "cell_type": "code",
   "execution_count": 44,
   "metadata": {},
   "outputs": [],
   "source": [
    "import matplotlib.pyplot as plt\n",
    "# https://matplotlib.org/3.1.1/gallery/statistics/histogram_multihist.html"
   ]
  },
  {
   "cell_type": "code",
   "execution_count": 34,
   "metadata": {},
   "outputs": [
    {
     "data": {
      "text/plain": [
       "44898"
      ]
     },
     "execution_count": 34,
     "metadata": {},
     "output_type": "execute_result"
    }
   ],
   "source": [
    "news_df.percUniqueWords.size"
   ]
  },
  {
   "cell_type": "code",
   "execution_count": 45,
   "metadata": {},
   "outputs": [],
   "source": [
    "# set for histograms\n",
    "percUniqueWords = news_df.percUniqueWords.values\n",
    "labels = news_df.label.values\n",
    "y = np.zeros(labels.shape)\n",
    "y[labels == 'fake'] = 1\n",
    "\n",
    "percUniqueWordsList = []\n",
    "percUniqueWordsTrue = percUniqueWords[labels==\"true\"]\n",
    "percUniqueWordsFake = percUniqueWords[labels==\"fake\"]\n",
    "percUniqueWordsList.append(percUniqueWordsTrue)\n",
    "percUniqueWordsList.append(percUniqueWordsFake)"
   ]
  },
  {
   "cell_type": "code",
   "execution_count": 46,
   "metadata": {},
   "outputs": [
    {
     "data": {
      "image/png": "[encoded data removed]",
      "text/plain": [
       "<Figure size 432x288 with 1 Axes>"
      ]
     },
     "metadata": {
      "needs_background": "light"
     },
     "output_type": "display_data"
    }
   ],
   "source": [
    "# plot histogram\n",
    "n_bins = 100\n",
    "\n",
    "# stacked bar\n",
    "plt.hist(percUniqueWordsList, n_bins, density=False, histtype='bar', #stacked=True, \n",
    "         label=['true','fake'])\n",
    "\n",
    "plt.title('Distribution of Fake vs True: Percentage of Unique Words')\n",
    "plt.legend()\n",
    "\n",
    "plt.show()"
   ]
  },
  {
   "cell_type": "code",
   "execution_count": 47,
   "metadata": {},
   "outputs": [],
   "source": [
    "from sklearn.linear_model import LogisticRegression\n",
    "from sklearn.model_selection import train_test_split\n",
    "from sklearn.metrics import f1_score"
   ]
  },
  {
   "cell_type": "code",
   "execution_count": 48,
   "metadata": {},
   "outputs": [],
   "source": [
    "def lrModelEval(X, y, test_perc):\n",
    "    X_train, X_test, y_train, y_test = train_test_split(X.reshape(-1,1), y, test_size=test_perc, random_state=42)\n",
    "    \n",
    "    clf = LogisticRegression(random_state=0, max_iter = 1000).fit(X_train, y_train)\n",
    "    \n",
    "    # predict\n",
    "    y_pred_train = clf.predict(X_train)\n",
    "    y_pred_test = clf.predict(X_test)\n",
    "    assert(y_pred_train.shape == y_train.shape)\n",
    "    assert(y_pred_test.shape == y_test.shape)\n",
    "    \n",
    "    # evaluate\n",
    "    \n",
    "    print('training accuracy:', clf.score(X_train, y_train))\n",
    "    print('test accuracy:', clf.score(X_test, y_test))\n",
    "    print('train f-score:', f1_score(y_train, y_pred_train))\n",
    "    print('test f-score:', f1_score(y_test, y_pred_test))\n",
    "    \n",
    "    return clf"
   ]
  },
  {
   "cell_type": "code",
   "execution_count": 49,
   "metadata": {},
   "outputs": [
    {
     "name": "stdout",
     "output_type": "stream",
     "text": [
      "training accuracy: 0.5584920714072006\n",
      "test accuracy: 0.555578052237295\n",
      "train f-score: 0.6479709491875845\n",
      "test f-score: 0.6460248347040799\n"
     ]
    },
    {
     "data": {
      "text/plain": [
       "LogisticRegression(C=1.0, class_weight=None, dual=False, fit_intercept=True,\n",
       "                   intercept_scaling=1, l1_ratio=None, max_iter=1000,\n",
       "                   multi_class='auto', n_jobs=None, penalty='l2',\n",
       "                   random_state=0, solver='lbfgs', tol=0.0001, verbose=0,\n",
       "                   warm_start=False)"
      ]
     },
     "execution_count": 49,
     "metadata": {},
     "output_type": "execute_result"
    }
   ],
   "source": [
    "lrModelEval(percUniqueWords, y, 0.33)"
   ]
  }
 ],
 "metadata": {
  "kernelspec": {
   "display_name": "Python 3",
   "language": "python",
   "name": "python3"
  },
  "language_info": {
   "codemirror_mode": {
    "name": "ipython",
    "version": 3
   },
   "file_extension": ".py",
   "mimetype": "text/x-python",
   "name": "python",
   "nbconvert_exporter": "python",
   "pygments_lexer": "ipython3",
   "version": "3.7.6"
  }
 },
 "nbformat": 4,
 "nbformat_minor": 4
}
