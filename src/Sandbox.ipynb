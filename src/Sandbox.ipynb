{
 "cells": [
  {
   "cell_type": "code",
   "execution_count": 23,
   "metadata": {},
   "outputs": [],
   "source": [
    "import pandas as pd\n",
    "import numpy as np\n",
    "from collections import Counter"
   ]
  },
  {
   "cell_type": "markdown",
   "metadata": {},
   "source": [
    "# Import Data"
   ]
  },
  {
   "cell_type": "code",
   "execution_count": 9,
   "metadata": {},
   "outputs": [],
   "source": [
    "news_df = pd.read_csv('./intermed/news.csv')"
   ]
  },
  {
   "cell_type": "code",
   "execution_count": 10,
   "metadata": {},
   "outputs": [],
   "source": [
    "puretext = news_df.puretext.values"
   ]
  },
  {
   "cell_type": "code",
   "execution_count": 11,
   "metadata": {},
   "outputs": [
    {
     "data": {
      "text/html": [
       "<div>\n",
       "<style scoped>\n",
       "    .dataframe tbody tr th:only-of-type {\n",
       "        vertical-align: middle;\n",
       "    }\n",
       "\n",
       "    .dataframe tbody tr th {\n",
       "        vertical-align: top;\n",
       "    }\n",
       "\n",
       "    .dataframe thead th {\n",
       "        text-align: right;\n",
       "    }\n",
       "</style>\n",
       "<table border=\"1\" class=\"dataframe\">\n",
       "  <thead>\n",
       "    <tr style=\"text-align: right;\">\n",
       "      <th></th>\n",
       "      <th>Unnamed: 0</th>\n",
       "      <th>title</th>\n",
       "      <th>text</th>\n",
       "      <th>subject</th>\n",
       "      <th>date</th>\n",
       "      <th>label</th>\n",
       "      <th>cleantext</th>\n",
       "      <th>source</th>\n",
       "      <th>puretext</th>\n",
       "      <th>puretitle</th>\n",
       "      <th>puretext_wpunc</th>\n",
       "      <th>puretitle_wpunc</th>\n",
       "    </tr>\n",
       "  </thead>\n",
       "  <tbody>\n",
       "    <tr>\n",
       "      <th>0</th>\n",
       "      <td>0</td>\n",
       "      <td>As U.S. budget fight looms, Republicans flip t...</td>\n",
       "      <td>WASHINGTON (Reuters) - The head of a conservat...</td>\n",
       "      <td>politicsNews</td>\n",
       "      <td>December 31, 2017</td>\n",
       "      <td>true</td>\n",
       "      <td>The head of a conservative Republican faction ...</td>\n",
       "      <td>WASHINGTON (Reuters)</td>\n",
       "      <td>the head of a conservative republican faction ...</td>\n",
       "      <td>as us budget fight looms republicans flip thei...</td>\n",
       "      <td>the head of a conservative republican faction ...</td>\n",
       "      <td>as u.s. budget fight looms, republicans flip t...</td>\n",
       "    </tr>\n",
       "    <tr>\n",
       "      <th>1</th>\n",
       "      <td>1</td>\n",
       "      <td>U.S. military to accept transgender recruits o...</td>\n",
       "      <td>WASHINGTON (Reuters) - Transgender people will...</td>\n",
       "      <td>politicsNews</td>\n",
       "      <td>December 29, 2017</td>\n",
       "      <td>true</td>\n",
       "      <td>Transgender people will be allowed for the fir...</td>\n",
       "      <td>WASHINGTON (Reuters)</td>\n",
       "      <td>transgender people will be allowed for the fir...</td>\n",
       "      <td>us military to accept transgender recruits on ...</td>\n",
       "      <td>transgender people will be allowed for the fir...</td>\n",
       "      <td>u.s. military to accept transgender recruits o...</td>\n",
       "    </tr>\n",
       "  </tbody>\n",
       "</table>\n",
       "</div>"
      ],
      "text/plain": [
       "   Unnamed: 0                                              title  \\\n",
       "0           0  As U.S. budget fight looms, Republicans flip t...   \n",
       "1           1  U.S. military to accept transgender recruits o...   \n",
       "\n",
       "                                                text       subject  \\\n",
       "0  WASHINGTON (Reuters) - The head of a conservat...  politicsNews   \n",
       "1  WASHINGTON (Reuters) - Transgender people will...  politicsNews   \n",
       "\n",
       "                 date label  \\\n",
       "0  December 31, 2017   true   \n",
       "1  December 29, 2017   true   \n",
       "\n",
       "                                           cleantext                source  \\\n",
       "0  The head of a conservative Republican faction ...  WASHINGTON (Reuters)   \n",
       "1  Transgender people will be allowed for the fir...  WASHINGTON (Reuters)   \n",
       "\n",
       "                                            puretext  \\\n",
       "0  the head of a conservative republican faction ...   \n",
       "1  transgender people will be allowed for the fir...   \n",
       "\n",
       "                                           puretitle  \\\n",
       "0  as us budget fight looms republicans flip thei...   \n",
       "1  us military to accept transgender recruits on ...   \n",
       "\n",
       "                                      puretext_wpunc  \\\n",
       "0  the head of a conservative republican faction ...   \n",
       "1  transgender people will be allowed for the fir...   \n",
       "\n",
       "                                     puretitle_wpunc  \n",
       "0  as u.s. budget fight looms, republicans flip t...  \n",
       "1  u.s. military to accept transgender recruits o...  "
      ]
     },
     "execution_count": 11,
     "metadata": {},
     "output_type": "execute_result"
    }
   ],
   "source": [
    "news_df.head(2)"
   ]
  },
  {
   "cell_type": "code",
   "execution_count": 116,
   "metadata": {},
   "outputs": [],
   "source": [
    "# # remove punctuation and tokenize\n",
    "# import nltk\n",
    "# nltk.download('stopwords')\n",
    "# nltk.download('wordnet')\n",
    "# nltk.download('punkt')\n",
    "# nltk.download('averaged_perceptron_tagger')"
   ]
  },
  {
   "cell_type": "code",
   "execution_count": 117,
   "metadata": {},
   "outputs": [],
   "source": [
    "# # clean to tokenize text and title\n",
    "# tokenizer_nltk = nltk.RegexpTokenizer(r\"\\w+\")\n",
    "# news_df['texttoken'] = news_df['puretext'].apply(lambda x: tokenizer_nltk.tokenize(x))\n",
    "# news_df['titletoken'] = news_df['title'].apply(lambda x: tokenizer_nltk.tokenize(x))"
   ]
  },
  {
   "cell_type": "markdown",
   "metadata": {},
   "source": [
    "# Count Number of Words"
   ]
  },
  {
   "cell_type": "code",
   "execution_count": 12,
   "metadata": {},
   "outputs": [],
   "source": [
    "def numUniqueWords(text):\n",
    "    return len(Counter(text.split()))\n",
    "\n",
    "def numWords(text):\n",
    "    return len(text)"
   ]
  },
  {
   "cell_type": "code",
   "execution_count": 13,
   "metadata": {},
   "outputs": [
    {
     "data": {
      "text/plain": [
       "(381, 4521)"
      ]
     },
     "execution_count": 13,
     "metadata": {},
     "output_type": "execute_result"
    }
   ],
   "source": [
    "numUniqueWords(puretext[0]), numWords(puretext[0])"
   ]
  },
  {
   "cell_type": "code",
   "execution_count": 14,
   "metadata": {},
   "outputs": [],
   "source": [
    "news_df['numUniqueWords'] = news_df['puretext'].apply(lambda x: numUniqueWords(x))\n",
    "news_df['numWords'] = news_df['puretext'].apply(lambda x: numWords(x))\n",
    "news_df['percUniqueWords'] = news_df['numUniqueWords']/news_df['numWords']"
   ]
  },
  {
   "cell_type": "code",
   "execution_count": 15,
   "metadata": {},
   "outputs": [
    {
     "data": {
      "text/html": [
       "<div>\n",
       "<style scoped>\n",
       "    .dataframe tbody tr th:only-of-type {\n",
       "        vertical-align: middle;\n",
       "    }\n",
       "\n",
       "    .dataframe tbody tr th {\n",
       "        vertical-align: top;\n",
       "    }\n",
       "\n",
       "    .dataframe thead th {\n",
       "        text-align: right;\n",
       "    }\n",
       "</style>\n",
       "<table border=\"1\" class=\"dataframe\">\n",
       "  <thead>\n",
       "    <tr style=\"text-align: right;\">\n",
       "      <th></th>\n",
       "      <th>total</th>\n",
       "      <th>numUniqueWords</th>\n",
       "      <th>numWords</th>\n",
       "      <th>percUniqueWords</th>\n",
       "    </tr>\n",
       "    <tr>\n",
       "      <th>label</th>\n",
       "      <th></th>\n",
       "      <th></th>\n",
       "      <th></th>\n",
       "      <th></th>\n",
       "    </tr>\n",
       "  </thead>\n",
       "  <tbody>\n",
       "    <tr>\n",
       "      <th>fake</th>\n",
       "      <td>778559517</td>\n",
       "      <td>5137639</td>\n",
       "      <td>58428186</td>\n",
       "      <td>2271.417198</td>\n",
       "    </tr>\n",
       "    <tr>\n",
       "      <th>true</th>\n",
       "      <td>229333236</td>\n",
       "      <td>4398683</td>\n",
       "      <td>49522487</td>\n",
       "      <td>2114.256505</td>\n",
       "    </tr>\n",
       "  </tbody>\n",
       "</table>\n",
       "</div>"
      ],
      "text/plain": [
       "           total  numUniqueWords  numWords  percUniqueWords\n",
       "label                                                      \n",
       "fake   778559517         5137639  58428186      2271.417198\n",
       "true   229333236         4398683  49522487      2114.256505"
      ]
     },
     "execution_count": 15,
     "metadata": {},
     "output_type": "execute_result"
    }
   ],
   "source": [
    "word_counts = news_df.groupby('label').sum()\n",
    "word_counts.rename(columns={'Unnamed: 0': 'total'})"
   ]
  },
  {
   "cell_type": "code",
   "execution_count": 16,
   "metadata": {},
   "outputs": [
    {
     "data": {
      "text/html": [
       "<div>\n",
       "<style scoped>\n",
       "    .dataframe tbody tr th:only-of-type {\n",
       "        vertical-align: middle;\n",
       "    }\n",
       "\n",
       "    .dataframe tbody tr th {\n",
       "        vertical-align: top;\n",
       "    }\n",
       "\n",
       "    .dataframe thead th {\n",
       "        text-align: right;\n",
       "    }\n",
       "</style>\n",
       "<table border=\"1\" class=\"dataframe\">\n",
       "  <thead>\n",
       "    <tr style=\"text-align: right;\">\n",
       "      <th></th>\n",
       "      <th>Unnamed: 0</th>\n",
       "      <th>numUniqueWords</th>\n",
       "      <th>numWords</th>\n",
       "      <th>percUniqueWords</th>\n",
       "    </tr>\n",
       "    <tr>\n",
       "      <th>label</th>\n",
       "      <th></th>\n",
       "      <th></th>\n",
       "      <th></th>\n",
       "      <th></th>\n",
       "    </tr>\n",
       "  </thead>\n",
       "  <tbody>\n",
       "    <tr>\n",
       "      <th>fake</th>\n",
       "      <td>33157</td>\n",
       "      <td>205</td>\n",
       "      <td>2116</td>\n",
       "      <td>0.095842</td>\n",
       "    </tr>\n",
       "    <tr>\n",
       "      <th>true</th>\n",
       "      <td>10708</td>\n",
       "      <td>200</td>\n",
       "      <td>2156</td>\n",
       "      <td>0.094604</td>\n",
       "    </tr>\n",
       "  </tbody>\n",
       "</table>\n",
       "</div>"
      ],
      "text/plain": [
       "       Unnamed: 0  numUniqueWords  numWords  percUniqueWords\n",
       "label                                                       \n",
       "fake        33157             205      2116         0.095842\n",
       "true        10708             200      2156         0.094604"
      ]
     },
     "execution_count": 16,
     "metadata": {},
     "output_type": "execute_result"
    }
   ],
   "source": [
    "news_df.groupby('label').median()"
   ]
  },
  {
   "cell_type": "code",
   "execution_count": 17,
   "metadata": {},
   "outputs": [],
   "source": [
    "import matplotlib.pyplot as plt\n",
    "# https://matplotlib.org/3.1.1/gallery/statistics/histogram_multihist.html"
   ]
  },
  {
   "cell_type": "code",
   "execution_count": 18,
   "metadata": {},
   "outputs": [
    {
     "data": {
      "text/plain": [
       "44898"
      ]
     },
     "execution_count": 18,
     "metadata": {},
     "output_type": "execute_result"
    }
   ],
   "source": [
    "news_df.percUniqueWords.size"
   ]
  },
  {
   "cell_type": "code",
   "execution_count": 19,
   "metadata": {},
   "outputs": [],
   "source": [
    "# set for histograms\n",
    "percUniqueWords = news_df.percUniqueWords.values\n",
    "labels = news_df.label.values\n",
    "y = np.zeros(labels.shape)\n",
    "y[labels == 'fake'] = 1\n",
    "\n",
    "percUniqueWordsList = []\n",
    "percUniqueWordsTrue = percUniqueWords[labels==\"true\"]\n",
    "percUniqueWordsFake = percUniqueWords[labels==\"fake\"]\n",
    "percUniqueWordsList.append(percUniqueWordsTrue)\n",
    "percUniqueWordsList.append(percUniqueWordsFake)"
   ]
  },
  {
   "cell_type": "code",
   "execution_count": 20,
   "metadata": {},
   "outputs": [
    {
     "data": {
      "image/png": "[encoded data removed]",
      "text/plain": [
       "<Figure size 432x288 with 1 Axes>"
      ]
     },
     "metadata": {
      "needs_background": "light"
     },
     "output_type": "display_data"
    }
   ],
   "source": [
    "# plot histogram\n",
    "n_bins = 100\n",
    "\n",
    "# stacked bar\n",
    "plt.hist(percUniqueWordsList, n_bins, density=False, histtype='bar', stacked=True, \n",
    "         label=['true','fake'])\n",
    "\n",
    "plt.title('Distribution of Fake vs True: Percentage of Unique Words')\n",
    "plt.legend()\n",
    "\n",
    "plt.show()"
   ]
  },
  {
   "cell_type": "code",
   "execution_count": 24,
   "metadata": {},
   "outputs": [],
   "source": [
    "from sklearn.linear_model import LogisticRegression\n",
    "from sklearn.model_selection import train_test_split\n",
    "from sklearn.metrics import f1_score"
   ]
  },
  {
   "cell_type": "code",
   "execution_count": 26,
   "metadata": {},
   "outputs": [],
   "source": [
    "def lrModelEval(X, y, test_perc):\n",
    "    X_train, X_test, y_train, y_test = train_test_split(X.reshape(-1,1), y, test_size=test_perc, random_state=42)\n",
    "    \n",
    "    clf = LogisticRegression(random_state=0, max_iter = 1000).fit(X_train, y_train)\n",
    "    \n",
    "    # predict\n",
    "    y_pred_train = clf.predict(X_train)\n",
    "    y_pred_test = clf.predict(X_test)\n",
    "    assert(y_pred_train.shape == y_train.shape)\n",
    "    assert(y_pred_test.shape == y_test.shape)\n",
    "    \n",
    "    # evaluate\n",
    "    \n",
    "    print('training accuracy:', clf.score(X_train, y_train))\n",
    "    print('test accuracy:', clf.score(X_test, y_test))\n",
    "    print('train f-score:', f1_score(y_train, y_pred_train))\n",
    "    print('test f-score:', f1_score(y_test, y_pred_test))\n",
    "    \n",
    "    return clf"
   ]
  },
  {
   "cell_type": "code",
   "execution_count": 27,
   "metadata": {},
   "outputs": [
    {
     "name": "stdout",
     "output_type": "stream",
     "text": [
      "training accuracy: 0.5242511884578305\n",
      "test accuracy: 0.5192684079098333\n",
      "train f-score: 0.6699720960265664\n",
      "test f-score: 0.6655397473822604\n"
     ]
    },
    {
     "data": {
      "text/plain": [
       "LogisticRegression(C=1.0, class_weight=None, dual=False, fit_intercept=True,\n",
       "                   intercept_scaling=1, l1_ratio=None, max_iter=1000,\n",
       "                   multi_class='auto', n_jobs=None, penalty='l2',\n",
       "                   random_state=0, solver='lbfgs', tol=0.0001, verbose=0,\n",
       "                   warm_start=False)"
      ]
     },
     "execution_count": 27,
     "metadata": {},
     "output_type": "execute_result"
    }
   ],
   "source": [
    "lrModelEval(percUniqueWords, y, 0.33)"
   ]
  }
 ],
 "metadata": {
  "kernelspec": {
   "display_name": "Python 3",
   "language": "python",
   "name": "python3"
  },
  "language_info": {
   "codemirror_mode": {
    "name": "ipython",
    "version": 3
   },
   "file_extension": ".py",
   "mimetype": "text/x-python",
   "name": "python",
   "nbconvert_exporter": "python",
   "pygments_lexer": "ipython3",
   "version": "3.7.6"
  }
 },
 "nbformat": 4,
 "nbformat_minor": 4
}
