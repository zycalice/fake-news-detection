{
 "cells": [
  {
   "cell_type": "code",
   "execution_count": 52,
   "metadata": {
    "id": "9ZGbM02ZzgyI"
   },
   "outputs": [],
   "source": [
    "import pandas as pd\n",
    "import numpy as np\n",
    "import string\n",
    "import re"
   ]
  },
  {
   "cell_type": "markdown",
   "metadata": {
    "id": "4z0oGL2O0d_i"
   },
   "source": [
    "# Import Data and Clean for BertEmbedding"
   ]
  },
  {
   "cell_type": "code",
   "execution_count": 53,
   "metadata": {
    "colab": {
     "base_uri": "https://localhost:8080/"
    },
    "id": "1h7IIzPMhZHB",
    "outputId": "6fa35a9e-7ac5-49c4-9b7f-8c771f4cb49b"
   },
   "outputs": [],
   "source": [
    "# from google.colab import drive\n",
    "# drive.mount('/content/drive')"
   ]
  },
  {
   "cell_type": "code",
   "execution_count": 54,
   "metadata": {
    "colab": {
     "base_uri": "https://localhost:8080/"
    },
    "id": "cCJBYHf90-a6",
    "outputId": "19df0856-f054-4a02-dc95-52aa5d142557"
   },
   "outputs": [],
   "source": [
    "# !unzip '/content/drive/My Drive/UPenn_Courses/CIS520/Final_Project/data/data_kaggle.zip'"
   ]
  },
  {
   "cell_type": "code",
   "execution_count": 148,
   "metadata": {
    "colab": {
     "base_uri": "https://localhost:8080/",
     "height": 198
    },
    "id": "FXqTsDMKyaZ4",
    "outputId": "737de81e-d5d6-4ec7-a38b-dad58efb09f4"
   },
   "outputs": [],
   "source": [
    "# load data from drive\n",
    "fake_df = pd.read_csv('../data_kaggle/Fake.csv')\n",
    "true_df = pd.read_csv('../data_kaggle/True.csv')"
   ]
  },
  {
   "cell_type": "code",
   "execution_count": 149,
   "metadata": {
    "id": "TZ0092mz0GHd"
   },
   "outputs": [],
   "source": [
    "# assign labels\n",
    "fake_df['label'] = 'fake'\n",
    "true_df['label'] = 'true'"
   ]
  },
  {
   "cell_type": "markdown",
   "metadata": {
    "id": "mzGvN_jmAsIG"
   },
   "source": [
    "## 0. Check data"
   ]
  },
  {
   "cell_type": "code",
   "execution_count": 150,
   "metadata": {
    "colab": {
     "base_uri": "https://localhost:8080/",
     "height": 111
    },
    "id": "C8n_rYmw0QbZ",
    "outputId": "dd4940a5-c947-4dc5-8fc2-1c90281c8631"
   },
   "outputs": [
    {
     "data": {
      "text/html": [
       "<div>\n",
       "<style scoped>\n",
       "    .dataframe tbody tr th:only-of-type {\n",
       "        vertical-align: middle;\n",
       "    }\n",
       "\n",
       "    .dataframe tbody tr th {\n",
       "        vertical-align: top;\n",
       "    }\n",
       "\n",
       "    .dataframe thead th {\n",
       "        text-align: right;\n",
       "    }\n",
       "</style>\n",
       "<table border=\"1\" class=\"dataframe\">\n",
       "  <thead>\n",
       "    <tr style=\"text-align: right;\">\n",
       "      <th></th>\n",
       "      <th>title</th>\n",
       "      <th>text</th>\n",
       "      <th>subject</th>\n",
       "      <th>date</th>\n",
       "      <th>label</th>\n",
       "    </tr>\n",
       "  </thead>\n",
       "  <tbody>\n",
       "    <tr>\n",
       "      <th>0</th>\n",
       "      <td>Donald Trump Sends Out Embarrassing New Year’...</td>\n",
       "      <td>Donald Trump just couldn t wish all Americans ...</td>\n",
       "      <td>News</td>\n",
       "      <td>December 31, 2017</td>\n",
       "      <td>fake</td>\n",
       "    </tr>\n",
       "    <tr>\n",
       "      <th>1</th>\n",
       "      <td>Drunk Bragging Trump Staffer Started Russian ...</td>\n",
       "      <td>House Intelligence Committee Chairman Devin Nu...</td>\n",
       "      <td>News</td>\n",
       "      <td>December 31, 2017</td>\n",
       "      <td>fake</td>\n",
       "    </tr>\n",
       "  </tbody>\n",
       "</table>\n",
       "</div>"
      ],
      "text/plain": [
       "                                               title  \\\n",
       "0   Donald Trump Sends Out Embarrassing New Year’...   \n",
       "1   Drunk Bragging Trump Staffer Started Russian ...   \n",
       "\n",
       "                                                text subject  \\\n",
       "0  Donald Trump just couldn t wish all Americans ...    News   \n",
       "1  House Intelligence Committee Chairman Devin Nu...    News   \n",
       "\n",
       "                date label  \n",
       "0  December 31, 2017  fake  \n",
       "1  December 31, 2017  fake  "
      ]
     },
     "execution_count": 150,
     "metadata": {},
     "output_type": "execute_result"
    }
   ],
   "source": [
    "# check fake data\n",
    "fake_df.head(2)"
   ]
  },
  {
   "cell_type": "code",
   "execution_count": 151,
   "metadata": {
    "colab": {
     "base_uri": "https://localhost:8080/",
     "height": 111
    },
    "id": "PoawdO1d0lDu",
    "outputId": "c08a8b93-8744-48ec-dc0b-9a91e87c5260"
   },
   "outputs": [
    {
     "data": {
      "text/html": [
       "<div>\n",
       "<style scoped>\n",
       "    .dataframe tbody tr th:only-of-type {\n",
       "        vertical-align: middle;\n",
       "    }\n",
       "\n",
       "    .dataframe tbody tr th {\n",
       "        vertical-align: top;\n",
       "    }\n",
       "\n",
       "    .dataframe thead th {\n",
       "        text-align: right;\n",
       "    }\n",
       "</style>\n",
       "<table border=\"1\" class=\"dataframe\">\n",
       "  <thead>\n",
       "    <tr style=\"text-align: right;\">\n",
       "      <th></th>\n",
       "      <th>title</th>\n",
       "      <th>text</th>\n",
       "      <th>subject</th>\n",
       "      <th>date</th>\n",
       "      <th>label</th>\n",
       "    </tr>\n",
       "  </thead>\n",
       "  <tbody>\n",
       "    <tr>\n",
       "      <th>0</th>\n",
       "      <td>As U.S. budget fight looms, Republicans flip t...</td>\n",
       "      <td>WASHINGTON (Reuters) - The head of a conservat...</td>\n",
       "      <td>politicsNews</td>\n",
       "      <td>December 31, 2017</td>\n",
       "      <td>true</td>\n",
       "    </tr>\n",
       "    <tr>\n",
       "      <th>1</th>\n",
       "      <td>U.S. military to accept transgender recruits o...</td>\n",
       "      <td>WASHINGTON (Reuters) - Transgender people will...</td>\n",
       "      <td>politicsNews</td>\n",
       "      <td>December 29, 2017</td>\n",
       "      <td>true</td>\n",
       "    </tr>\n",
       "  </tbody>\n",
       "</table>\n",
       "</div>"
      ],
      "text/plain": [
       "                                               title  \\\n",
       "0  As U.S. budget fight looms, Republicans flip t...   \n",
       "1  U.S. military to accept transgender recruits o...   \n",
       "\n",
       "                                                text       subject  \\\n",
       "0  WASHINGTON (Reuters) - The head of a conservat...  politicsNews   \n",
       "1  WASHINGTON (Reuters) - Transgender people will...  politicsNews   \n",
       "\n",
       "                 date label  \n",
       "0  December 31, 2017   true  \n",
       "1  December 29, 2017   true  "
      ]
     },
     "execution_count": 151,
     "metadata": {},
     "output_type": "execute_result"
    }
   ],
   "source": [
    "# check true data\n",
    "true_df.head(2)"
   ]
  },
  {
   "cell_type": "code",
   "execution_count": 80,
   "metadata": {
    "colab": {
     "base_uri": "https://localhost:8080/"
    },
    "id": "4X3efn930oCS",
    "outputId": "18896733-1e51-4e8d-fc2f-c645046e2cc4"
   },
   "outputs": [
    {
     "data": {
      "text/plain": [
       "0        WASHINGTON (Reuters) - The head of a conservat...\n",
       "1        WASHINGTON (Reuters) - Transgender people will...\n",
       "2        WASHINGTON (Reuters) - The special counsel inv...\n",
       "3        WASHINGTON (Reuters) - Trump campaign adviser ...\n",
       "4        SEATTLE/WASHINGTON (Reuters) - President Donal...\n",
       "                               ...                        \n",
       "21412    BRUSSELS (Reuters) - NATO allies on Tuesday we...\n",
       "21413    LONDON (Reuters) - LexisNexis, a provider of l...\n",
       "21414    MINSK (Reuters) - In the shadow of disused Sov...\n",
       "21415    MOSCOW (Reuters) - Vatican Secretary of State ...\n",
       "21416    JAKARTA (Reuters) - Indonesia will buy 11 Sukh...\n",
       "Name: text, Length: 21417, dtype: object"
      ]
     },
     "execution_count": 80,
     "metadata": {},
     "output_type": "execute_result"
    }
   ],
   "source": [
    "true_df.text"
   ]
  },
  {
   "cell_type": "code",
   "execution_count": 81,
   "metadata": {
    "colab": {
     "base_uri": "https://localhost:8080/"
    },
    "id": "qM-SKLTC0x3n",
    "outputId": "7f66e4f8-6655-47c5-a39d-8528007d8109"
   },
   "outputs": [
    {
     "data": {
      "text/plain": [
       "0        Donald Trump just couldn t wish all Americans ...\n",
       "1        House Intelligence Committee Chairman Devin Nu...\n",
       "2        On Friday, it was revealed that former Milwauk...\n",
       "3        On Christmas day, Donald Trump announced that ...\n",
       "4        Pope Francis used his annual Christmas Day mes...\n",
       "                               ...                        \n",
       "23476    21st Century Wire says As 21WIRE reported earl...\n",
       "23477    21st Century Wire says It s a familiar theme. ...\n",
       "23478    Patrick Henningsen  21st Century WireRemember ...\n",
       "23479    21st Century Wire says Al Jazeera America will...\n",
       "23480    21st Century Wire says As 21WIRE predicted in ...\n",
       "Name: text, Length: 23481, dtype: object"
      ]
     },
     "execution_count": 81,
     "metadata": {},
     "output_type": "execute_result"
    }
   ],
   "source": [
    "fake_df.text"
   ]
  },
  {
   "cell_type": "markdown",
   "metadata": {
    "id": "Ydpsit7yA64S"
   },
   "source": [
    "## 1. Remove source, credit, (VIDEO) that will affect the prediction"
   ]
  },
  {
   "cell_type": "code",
   "execution_count": 152,
   "metadata": {
    "id": "eTa9Fy8wCbTA"
   },
   "outputs": [],
   "source": [
    "textSplitLen = true_df['text'].apply(lambda x: len(x.split(\" - \",1)))"
   ]
  },
  {
   "cell_type": "code",
   "execution_count": 153,
   "metadata": {
    "colab": {
     "base_uri": "https://localhost:8080/"
    },
    "id": "ZkzT_i3kC9en",
    "outputId": "7e204f84-9998-43bb-8961-d6766624bbbe"
   },
   "outputs": [
    {
     "data": {
      "text/plain": [
       "array([2, 1])"
      ]
     },
     "execution_count": 153,
     "metadata": {},
     "output_type": "execute_result"
    }
   ],
   "source": [
    "pd.Series.unique(textSplitLen)"
   ]
  },
  {
   "cell_type": "code",
   "execution_count": 154,
   "metadata": {
    "colab": {
     "base_uri": "https://localhost:8080/"
    },
    "id": "OQu9-P-IDTzZ",
    "outputId": "e0cdf949-68dd-4d71-a06f-1907adf49b97"
   },
   "outputs": [
    {
     "data": {
      "text/plain": [
       "array([2922, 3488, 3782, 4358, 4465, 5290, 5588, 5761, 5784, 6026, 6184,\n",
       "       6660, 6823, 7922, 8194, 8195, 8247, 8465, 8481, 8482, 8505, 8506,\n",
       "       8771, 8970, 9008, 9009, 9307, 9618, 9737])"
      ]
     },
     "execution_count": 154,
     "metadata": {},
     "output_type": "execute_result"
    }
   ],
   "source": [
    "noSourceId = np.arange(len(textSplitLen))[textSplitLen.values==1]\n",
    "noSourceId"
   ]
  },
  {
   "cell_type": "code",
   "execution_count": 155,
   "metadata": {
    "colab": {
     "base_uri": "https://localhost:8080/"
    },
    "id": "5m-_N6A1DWo9",
    "outputId": "8fdf0b21-a92a-49eb-df88-42e160ae32ff"
   },
   "outputs": [
    {
     "name": "stdout",
     "output_type": "stream",
     "text": [
      "2922 The following statements were posted to the verifi\n",
      "3488 The White House on Wednesday disclosed a group of \n",
      "3782 The following statements were posted to the verifi\n",
      "4358 Neil Gorsuch, President Donald Trump’s appointee t\n",
      "4465 WASHINGTON The clock began running out this week o\n",
      "5290 The following statements were posted to the verifi\n",
      "5588 The following statements were posted to the verifi\n",
      "5761 The following bullet points are from the U.S. Pres\n",
      "5784 Federal appeals court judge Neil Gorsuch, the U.S.\n",
      "6026 The following bullet points are from the U.S. Pres\n",
      "6184 The following bullet points are from the U.S. Pres\n",
      "6660 Republican members of Congress are complaining tha\n",
      "6823 Over the course of the U.S. presidential campaign,\n",
      "7922 After going through a week reminiscent of Napoleon\n",
      "8194 The following timeline charts the origin and sprea\n",
      "8195 Global health officials are racing to better under\n",
      "8247 U.S. President Barack Obama visited a street marke\n",
      "8465 ALGONAC, MICH.—Parker Fox drifted out of the Donal\n",
      "8481 Global health officials are racing to better under\n",
      "8482 The following timeline charts the origin and sprea\n",
      "8505 Global health officials are racing to better under\n",
      "8506 The following timeline charts the origin and sprea\n",
      "8771 In a speech weighted with America’s complicated ra\n",
      "8970  \n",
      "9008 The following timeline charts the origin and sprea\n",
      "9009 Global health officials are racing to better under\n",
      "9307 It’s the near future, and North Korea’s regime is \n",
      "9618 GOP leaders have unleashed a stunning level of vit\n",
      "9737 Caitlyn Jenner posted a video on Wednesday (April \n"
     ]
    }
   ],
   "source": [
    "for i, e in enumerate(noSourceId):\n",
    "    print(e, true_df.text[e][:50])"
   ]
  },
  {
   "cell_type": "code",
   "execution_count": 156,
   "metadata": {
    "colab": {
     "base_uri": "https://localhost:8080/",
     "height": 80
    },
    "id": "OQi0fSFWQZ_1",
    "outputId": "370d404e-7efd-4422-e9cb-0d0ba89e6052"
   },
   "outputs": [
    {
     "data": {
      "text/html": [
       "<div>\n",
       "<style scoped>\n",
       "    .dataframe tbody tr th:only-of-type {\n",
       "        vertical-align: middle;\n",
       "    }\n",
       "\n",
       "    .dataframe tbody tr th {\n",
       "        vertical-align: top;\n",
       "    }\n",
       "\n",
       "    .dataframe thead th {\n",
       "        text-align: right;\n",
       "    }\n",
       "</style>\n",
       "<table border=\"1\" class=\"dataframe\">\n",
       "  <thead>\n",
       "    <tr style=\"text-align: right;\">\n",
       "      <th></th>\n",
       "      <th>title</th>\n",
       "      <th>text</th>\n",
       "      <th>subject</th>\n",
       "      <th>date</th>\n",
       "      <th>label</th>\n",
       "    </tr>\n",
       "  </thead>\n",
       "  <tbody>\n",
       "    <tr>\n",
       "      <th>8970</th>\n",
       "      <td>Graphic: Supreme Court roundup</td>\n",
       "      <td></td>\n",
       "      <td>politicsNews</td>\n",
       "      <td>June 16, 2016</td>\n",
       "      <td>true</td>\n",
       "    </tr>\n",
       "  </tbody>\n",
       "</table>\n",
       "</div>"
      ],
      "text/plain": [
       "                               title text       subject            date label\n",
       "8970  Graphic: Supreme Court roundup       politicsNews  June 16, 2016   true"
      ]
     },
     "execution_count": 156,
     "metadata": {},
     "output_type": "execute_result"
    }
   ],
   "source": [
    "true_df[true_df.text==\" \"]"
   ]
  },
  {
   "cell_type": "code",
   "execution_count": 157,
   "metadata": {},
   "outputs": [],
   "source": [
    "# def function to remove photo credits from fake news sources\n",
    "def remove_photo_credit(text):\n",
    "    if re.search('Photo by .+|Featured image |Flame image by',text):\n",
    "        text = re.sub('Photo by (.)+$|Featured image (.)+$|Flame image by (.)+$', '',text)\n",
    "    return text\n",
    "\n",
    "# def function to remove video\n",
    "def remove_video_title(title):\n",
    "    return re.sub('\\(Video\\)|(\\(|\\[)(.)*VIDEO(S)?(.)*(\\)|\\])|^(.)*VIDEO:','',title)\n",
    "\n",
    "# def function to remove any particular words\n",
    "def remove_word(text, word):\n",
    "    return text.replace(word, '')"
   ]
  },
  {
   "cell_type": "code",
   "execution_count": 158,
   "metadata": {
    "id": "Am3qRVpA3_j-"
   },
   "outputs": [],
   "source": [
    "# clean to split source with text \n",
    "## clean fake\n",
    "fake_df['cleantitle'] = fake_df['title'].apply(lambda x: remove_video_title(x))\n",
    "fake_df['cleantext'] = fake_df['text'].apply(lambda x:remove_photo_credit(x))\n",
    "fake_df['source'] = 'unclear'\n",
    "\n",
    "## clean true \n",
    "true_df['cleantitle'] = true_df['title']\n",
    "true_df['cleantext'] = true_df['text'].apply(lambda x: x.split(\" - \",1)[-1])\n",
    "\n",
    "def source(x):\n",
    "    if len(x.split(\" - \",1))>1: \n",
    "        return x.split(\" - \",1)[-2]\n",
    "    else: \n",
    "        return 'unclear'\n",
    "\n",
    "true_df['source'] = true_df['text'].apply(lambda x: source(x))"
   ]
  },
  {
   "cell_type": "markdown",
   "metadata": {
    "id": "TJiMEmzz_zja"
   },
   "source": [
    "## 2. Combine datasets and further clean"
   ]
  },
  {
   "cell_type": "code",
   "execution_count": 159,
   "metadata": {
    "id": "mXIbmpWQvWBd"
   },
   "outputs": [],
   "source": [
    "path = \"../data_intermed/\""
   ]
  },
  {
   "cell_type": "code",
   "execution_count": 160,
   "metadata": {
    "id": "7ppGjiL1ADt6"
   },
   "outputs": [
    {
     "data": {
      "text/plain": [
       "44898"
      ]
     },
     "execution_count": 160,
     "metadata": {},
     "output_type": "execute_result"
    }
   ],
   "source": [
    "# combine datasets\n",
    "news_df = pd.concat([true_df, fake_df], ignore_index=True)\n",
    "# news_df = news_df[news_df['text']!= \" \"]\n",
    "len(news_df)"
   ]
  },
  {
   "cell_type": "code",
   "execution_count": 161,
   "metadata": {
    "id": "S-dryJMd_W_O"
   },
   "outputs": [],
   "source": [
    "# clean to remove punctuation in text and title\n",
    "# https://stackoverflow.com/questions/265960/best-way-to-strip-punctuation-from-a-string\n",
    "# news_df['puretext'] = news_df['cleantext'].apply(lambda x: x.translate(str.maketrans('', '', string.punctuation)).lower())\n",
    "# news_df['puretitle'] = news_df['title'].apply(lambda x: x.translate(str.maketrans('', '', string.punctuation)).lower())\n",
    "\n",
    "news_df['puretext_wpunc'] = news_df['cleantext'].apply(lambda x: x.lower())\n",
    "news_df['puretitle_wpunc'] = news_df['cleantitle'].apply(lambda x: x.lower())\n",
    "\n",
    "news_df.to_csv(path + \"news_bert.csv\")"
   ]
  },
  {
   "cell_type": "code",
   "execution_count": 162,
   "metadata": {
    "id": "WXzVQsZiK4z8"
   },
   "outputs": [
    {
     "data": {
      "text/html": [
       "<div>\n",
       "<style scoped>\n",
       "    .dataframe tbody tr th:only-of-type {\n",
       "        vertical-align: middle;\n",
       "    }\n",
       "\n",
       "    .dataframe tbody tr th {\n",
       "        vertical-align: top;\n",
       "    }\n",
       "\n",
       "    .dataframe thead th {\n",
       "        text-align: right;\n",
       "    }\n",
       "</style>\n",
       "<table border=\"1\" class=\"dataframe\">\n",
       "  <thead>\n",
       "    <tr style=\"text-align: right;\">\n",
       "      <th></th>\n",
       "      <th>title</th>\n",
       "      <th>text</th>\n",
       "      <th>subject</th>\n",
       "      <th>date</th>\n",
       "      <th>label</th>\n",
       "      <th>cleantitle</th>\n",
       "      <th>cleantext</th>\n",
       "      <th>source</th>\n",
       "      <th>puretext_wpunc</th>\n",
       "      <th>puretitle_wpunc</th>\n",
       "    </tr>\n",
       "  </thead>\n",
       "  <tbody>\n",
       "    <tr>\n",
       "      <th>0</th>\n",
       "      <td>As U.S. budget fight looms, Republicans flip t...</td>\n",
       "      <td>WASHINGTON (Reuters) - The head of a conservat...</td>\n",
       "      <td>politicsNews</td>\n",
       "      <td>December 31, 2017</td>\n",
       "      <td>true</td>\n",
       "      <td>As U.S. budget fight looms, Republicans flip t...</td>\n",
       "      <td>The head of a conservative Republican faction ...</td>\n",
       "      <td>WASHINGTON (Reuters)</td>\n",
       "      <td>the head of a conservative republican faction ...</td>\n",
       "      <td>as u.s. budget fight looms, republicans flip t...</td>\n",
       "    </tr>\n",
       "    <tr>\n",
       "      <th>1</th>\n",
       "      <td>U.S. military to accept transgender recruits o...</td>\n",
       "      <td>WASHINGTON (Reuters) - Transgender people will...</td>\n",
       "      <td>politicsNews</td>\n",
       "      <td>December 29, 2017</td>\n",
       "      <td>true</td>\n",
       "      <td>U.S. military to accept transgender recruits o...</td>\n",
       "      <td>Transgender people will be allowed for the fir...</td>\n",
       "      <td>WASHINGTON (Reuters)</td>\n",
       "      <td>transgender people will be allowed for the fir...</td>\n",
       "      <td>u.s. military to accept transgender recruits o...</td>\n",
       "    </tr>\n",
       "  </tbody>\n",
       "</table>\n",
       "</div>"
      ],
      "text/plain": [
       "                                               title  \\\n",
       "0  As U.S. budget fight looms, Republicans flip t...   \n",
       "1  U.S. military to accept transgender recruits o...   \n",
       "\n",
       "                                                text       subject  \\\n",
       "0  WASHINGTON (Reuters) - The head of a conservat...  politicsNews   \n",
       "1  WASHINGTON (Reuters) - Transgender people will...  politicsNews   \n",
       "\n",
       "                 date label  \\\n",
       "0  December 31, 2017   true   \n",
       "1  December 29, 2017   true   \n",
       "\n",
       "                                          cleantitle  \\\n",
       "0  As U.S. budget fight looms, Republicans flip t...   \n",
       "1  U.S. military to accept transgender recruits o...   \n",
       "\n",
       "                                           cleantext                source  \\\n",
       "0  The head of a conservative Republican faction ...  WASHINGTON (Reuters)   \n",
       "1  Transgender people will be allowed for the fir...  WASHINGTON (Reuters)   \n",
       "\n",
       "                                      puretext_wpunc  \\\n",
       "0  the head of a conservative republican faction ...   \n",
       "1  transgender people will be allowed for the fir...   \n",
       "\n",
       "                                     puretitle_wpunc  \n",
       "0  as u.s. budget fight looms, republicans flip t...  \n",
       "1  u.s. military to accept transgender recruits o...  "
      ]
     },
     "execution_count": 162,
     "metadata": {},
     "output_type": "execute_result"
    }
   ],
   "source": [
    "news_df.head(2)"
   ]
  },
  {
   "cell_type": "markdown",
   "metadata": {
    "id": "yLeGn17RTDSx"
   },
   "source": [
    "# Contextualized Embedding\n",
    "\n",
    "https://colab.research.google.com/drive/1RhmL0BqNe52FEbdSyLpkfVuCZxE7b5ke#scrollTo=plr13kC_IAoV\n",
    "\n",
    "https://huggingface.co/transformers/quickstart.html"
   ]
  },
  {
   "cell_type": "code",
   "execution_count": null,
   "metadata": {
    "id": "huhKJ9yZTLW6"
   },
   "outputs": [],
   "source": [
    "!git clone https://github.com/google-research/bert"
   ]
  },
  {
   "cell_type": "code",
   "execution_count": 13,
   "metadata": {
    "id": "773vs3YGUTAK"
   },
   "outputs": [
    {
     "name": "stdout",
     "output_type": "stream",
     "text": [
      "Collecting transformers\n",
      "  Using cached transformers-3.5.1-py3-none-any.whl (1.3 MB)\n",
      "Requirement already satisfied: requests in /Users/yuchen.zhang/opt/anaconda3/lib/python3.7/site-packages (from transformers) (2.22.0)\n",
      "Requirement already satisfied: tqdm>=4.27 in /Users/yuchen.zhang/opt/anaconda3/lib/python3.7/site-packages (from transformers) (4.42.1)\n",
      "Requirement already satisfied: protobuf in /Users/yuchen.zhang/opt/anaconda3/lib/python3.7/site-packages (from transformers) (3.11.4)\n",
      "Collecting sentencepiece==0.1.91\n",
      "  Downloading sentencepiece-0.1.91-cp37-cp37m-macosx_10_6_x86_64.whl (1.1 MB)\n",
      "\u001b[K     |████████████████████████████████| 1.1 MB 3.9 MB/s eta 0:00:01\n",
      "\u001b[?25hCollecting sacremoses\n",
      "  Using cached sacremoses-0.0.43.tar.gz (883 kB)\n",
      "Requirement already satisfied: packaging in /Users/yuchen.zhang/opt/anaconda3/lib/python3.7/site-packages (from transformers) (20.1)\n",
      "Requirement already satisfied: numpy in /Users/yuchen.zhang/opt/anaconda3/lib/python3.7/site-packages (from transformers) (1.18.5)\n",
      "Collecting tokenizers==0.9.3\n",
      "  Downloading tokenizers-0.9.3-cp37-cp37m-macosx_10_11_x86_64.whl (2.0 MB)\n",
      "\u001b[K     |████████████████████████████████| 2.0 MB 6.7 MB/s eta 0:00:01\n",
      "\u001b[?25hCollecting regex!=2019.12.17\n",
      "  Downloading regex-2020.11.13-cp37-cp37m-macosx_10_9_x86_64.whl (284 kB)\n",
      "\u001b[K     |████████████████████████████████| 284 kB 3.8 MB/s eta 0:00:01\n",
      "\u001b[?25hRequirement already satisfied: filelock in /Users/yuchen.zhang/opt/anaconda3/lib/python3.7/site-packages (from transformers) (3.0.12)\n",
      "Requirement already satisfied: idna<2.9,>=2.5 in /Users/yuchen.zhang/opt/anaconda3/lib/python3.7/site-packages (from requests->transformers) (2.8)\n",
      "Requirement already satisfied: chardet<3.1.0,>=3.0.2 in /Users/yuchen.zhang/opt/anaconda3/lib/python3.7/site-packages (from requests->transformers) (3.0.4)\n",
      "Requirement already satisfied: urllib3!=1.25.0,!=1.25.1,<1.26,>=1.21.1 in /Users/yuchen.zhang/opt/anaconda3/lib/python3.7/site-packages (from requests->transformers) (1.25.8)\n",
      "Requirement already satisfied: certifi>=2017.4.17 in /Users/yuchen.zhang/opt/anaconda3/lib/python3.7/site-packages (from requests->transformers) (2019.11.28)\n",
      "Requirement already satisfied: six>=1.9 in /Users/yuchen.zhang/opt/anaconda3/lib/python3.7/site-packages (from protobuf->transformers) (1.14.0)\n",
      "Requirement already satisfied: setuptools in /Users/yuchen.zhang/opt/anaconda3/lib/python3.7/site-packages (from protobuf->transformers) (46.0.0.post20200309)\n",
      "Requirement already satisfied: click in /Users/yuchen.zhang/opt/anaconda3/lib/python3.7/site-packages (from sacremoses->transformers) (7.0)\n",
      "Requirement already satisfied: joblib in /Users/yuchen.zhang/opt/anaconda3/lib/python3.7/site-packages (from sacremoses->transformers) (0.14.1)\n",
      "Requirement already satisfied: pyparsing>=2.0.2 in /Users/yuchen.zhang/opt/anaconda3/lib/python3.7/site-packages (from packaging->transformers) (2.4.6)\n",
      "Building wheels for collected packages: sacremoses\n",
      "  Building wheel for sacremoses (setup.py) ... \u001b[?25ldone\n",
      "\u001b[?25h  Created wheel for sacremoses: filename=sacremoses-0.0.43-py3-none-any.whl size=893259 sha256=9b2109ea71a82afe6ce2666e15f76a5db45dde4842fd757406437b3bca268cae\n",
      "  Stored in directory: /Users/yuchen.zhang/Library/Caches/pip/wheels/69/09/d1/bf058f7d6fa0ecba2ce7c66be3b8d012beb4bf61a6e0c101c0\n",
      "Successfully built sacremoses\n",
      "Installing collected packages: sentencepiece, regex, sacremoses, tokenizers, transformers\n",
      "Successfully installed regex-2020.11.13 sacremoses-0.0.43 sentencepiece-0.1.91 tokenizers-0.9.3 transformers-3.5.1\n"
     ]
    }
   ],
   "source": [
    "!pip install transformers"
   ]
  },
  {
   "cell_type": "markdown",
   "metadata": {
    "id": "xMBXU3XG-WgD"
   },
   "source": [
    "## DistilBert\n",
    "\n",
    "http://jalammar.github.io/a-visual-guide-to-using-bert-for-the-first-time/"
   ]
  },
  {
   "cell_type": "code",
   "execution_count": 30,
   "metadata": {
    "id": "cECF8NA1h-w6"
   },
   "outputs": [],
   "source": [
    "import torch\n",
    "from transformers import BertTokenizer, BertModel"
   ]
  },
  {
   "cell_type": "code",
   "execution_count": 31,
   "metadata": {
    "id": "Ga5hqM55-V0S"
   },
   "outputs": [],
   "source": [
    "from transformers import DistilBertTokenizer, DistilBertModel"
   ]
  },
  {
   "cell_type": "code",
   "execution_count": 32,
   "metadata": {
    "id": "0GY9np6A-fqS"
   },
   "outputs": [],
   "source": [
    "tokenizer_d = DistilBertTokenizer.from_pretrained('distilbert-base-uncased')\n",
    "model_d = DistilBertModel.from_pretrained('distilbert-base-uncased')"
   ]
  },
  {
   "cell_type": "markdown",
   "metadata": {
    "id": "NFajkClpLemI"
   },
   "source": [
    "### Batch assign to avoid crashing"
   ]
  },
  {
   "cell_type": "markdown",
   "metadata": {
    "id": "t-A6Odu9MSt3"
   },
   "source": [
    "#### Title (Done)"
   ]
  },
  {
   "cell_type": "code",
   "execution_count": 163,
   "metadata": {
    "id": "Pm24PFDGW1EH"
   },
   "outputs": [],
   "source": [
    "encoded_input_title = tokenizer_d(news_df['puretitle_wpunc'].tolist(), return_tensors = 'pt', truncation = True, padding = True)"
   ]
  },
  {
   "cell_type": "code",
   "execution_count": 164,
   "metadata": {},
   "outputs": [],
   "source": [
    "torch.save(encoded_input_title, path + \"encoded_input_title.pt\")"
   ]
  },
  {
   "cell_type": "code",
   "execution_count": 165,
   "metadata": {
    "colab": {
     "base_uri": "https://localhost:8080/"
    },
    "id": "rygDB7HTXFiO",
    "outputId": "1ca5489f-ce75-45cc-c110-47f150df64b5"
   },
   "outputs": [
    {
     "data": {
      "text/plain": [
       "(44898, 768)"
      ]
     },
     "execution_count": 165,
     "metadata": {},
     "output_type": "execute_result"
    }
   ],
   "source": [
    "output_title = np.zeros([len(news_df['puretitle_wpunc']), 768])\n",
    "output_title.shape"
   ]
  },
  {
   "cell_type": "code",
   "execution_count": 168,
   "metadata": {
    "colab": {
     "base_uri": "https://localhost:8080/"
    },
    "id": "YbH69bDDM7PA",
    "outputId": "12dc3892-d30d-4078-ae3a-18029debd127"
   },
   "outputs": [],
   "source": [
    "with torch.no_grad():\n",
    "    for i in range(45):\n",
    "        encoded_input_title_batch = {}\n",
    "        encoded_input_title_batch['input_ids'] = encoded_input_title['input_ids'][i*1000: min(len(news_df['puretitle_wpunc']), (i+1)*1000)]\n",
    "        encoded_input_title_batch['attention_mask'] = encoded_input_title['attention_mask'][i*1000: min(len(news_df['puretitle_wpunc']), (i+1)*1000)]\n",
    "        output_title[i*1000: min(len(news_df['puretitle_wpunc']),(i+1)*1000)] = model_d(**encoded_input_title_batch)[0][:,0,:].numpy()"
   ]
  },
  {
   "cell_type": "code",
   "execution_count": 169,
   "metadata": {
    "id": "HTKizWCYJva5"
   },
   "outputs": [],
   "source": [
    "np.save(path + \"distilBert_title\", output_title)"
   ]
  },
  {
   "cell_type": "code",
   "execution_count": 171,
   "metadata": {},
   "outputs": [
    {
     "data": {
      "text/plain": [
       "(44898, 768)"
      ]
     },
     "execution_count": 171,
     "metadata": {},
     "output_type": "execute_result"
    }
   ],
   "source": [
    "output_title.shape"
   ]
  },
  {
   "cell_type": "markdown",
   "metadata": {
    "id": "W4NmrD0sMXo5"
   },
   "source": [
    "#### Article (Done)\n"
   ]
  },
  {
   "cell_type": "code",
   "execution_count": 94,
   "metadata": {
    "id": "SZYQsvP3MaZK"
   },
   "outputs": [],
   "source": [
    "encoded_input_text = tokenizer_d(news_df['puretext_wpunc'].tolist(), return_tensors = 'pt', truncation = True, padding = True)"
   ]
  },
  {
   "cell_type": "code",
   "execution_count": 95,
   "metadata": {},
   "outputs": [],
   "source": [
    "torch.save(encoded_input_text, path + \"encoded_input_text.pt\")"
   ]
  },
  {
   "cell_type": "code",
   "execution_count": 96,
   "metadata": {
    "colab": {
     "base_uri": "https://localhost:8080/"
    },
    "id": "ePTxHUC1ivrC",
    "outputId": "69849b2a-fe2f-48db-a96e-7c5afd4ee146"
   },
   "outputs": [
    {
     "data": {
      "text/plain": [
       "(44898, 768)"
      ]
     },
     "execution_count": 96,
     "metadata": {},
     "output_type": "execute_result"
    }
   ],
   "source": [
    "output_text = np.zeros([len(news_df['puretext_wpunc']), 768])\n",
    "output_text.shape"
   ]
  },
  {
   "cell_type": "code",
   "execution_count": 97,
   "metadata": {
    "id": "TveGjMgNihZw"
   },
   "outputs": [],
   "source": [
    "with torch.no_grad():\n",
    "      for i in range(len(news_df['puretext_wpunc'])):\n",
    "            encoded_input_text_batch = {}\n",
    "            encoded_input_text_batch['input_ids'] = encoded_input_text['input_ids'][i: min(len(news_df['puretext_wpunc']), (i+1))]\n",
    "            encoded_input_text_batch['attention_mask'] = encoded_input_text['attention_mask'][i: min(len(news_df['puretext_wpunc']), (i+1))]\n",
    "            # print(model_d(**encoded_input_text_batch)[0][:,0,:].numpy().shape)\n",
    "            output_text[i: min(len(news_df['puretext_wpunc']),(i+1))] = model_d(**encoded_input_text_batch)[0][:,0,:].numpy()"
   ]
  },
  {
   "cell_type": "code",
   "execution_count": 98,
   "metadata": {
    "id": "4qF2u1bzt-BZ"
   },
   "outputs": [],
   "source": [
    "np.save(path + \"distilBert_text\", output_text)"
   ]
  },
  {
   "cell_type": "code",
   "execution_count": 99,
   "metadata": {
    "colab": {
     "base_uri": "https://localhost:8080/",
     "height": 164
    },
    "id": "_Gwx3Kn8nWpc",
    "outputId": "e27a0aa2-0960-47c3-e83f-3a31cb0663eb"
   },
   "outputs": [
    {
     "data": {
      "text/plain": [
       "(44898, 768)"
      ]
     },
     "execution_count": 99,
     "metadata": {},
     "output_type": "execute_result"
    }
   ],
   "source": [
    "output_text.shape"
   ]
  }
 ],
 "metadata": {
  "accelerator": "TPU",
  "colab": {
   "collapsed_sections": [
    "eCo0dY5E-QDu",
    "QrhY7wNPLXw4",
    "t-A6Odu9MSt3"
   ],
   "name": "EDA_Preprocessing_YZ",
   "provenance": []
  },
  "kernelspec": {
   "display_name": "Python 3",
   "language": "python",
   "name": "python3"
  },
  "language_info": {
   "codemirror_mode": {
    "name": "ipython",
    "version": 3
   },
   "file_extension": ".py",
   "mimetype": "text/x-python",
   "name": "python",
   "nbconvert_exporter": "python",
   "pygments_lexer": "ipython3",
   "version": "3.7.6"
  }
 },
 "nbformat": 4,
 "nbformat_minor": 4
}
